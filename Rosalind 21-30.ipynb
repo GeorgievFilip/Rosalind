{
 "cells": [
  {
   "cell_type": "code",
   "execution_count": 1,
   "metadata": {},
   "outputs": [],
   "source": [
    "DATA_PATH = \"Data/\""
   ]
  },
  {
   "cell_type": "code",
   "execution_count": 2,
   "metadata": {},
   "outputs": [],
   "source": [
    "# FASTA file reader\n",
    "from collections import OrderedDict\n",
    "from typing import Dict\n",
    "\n",
    "NAME_SYMBOL = '>'\n",
    "\n",
    "\n",
    "def parse_sequences(filename: str,\n",
    "                    ordered: bool=False) -> Dict[str, str]:\n",
    "    \"\"\"\n",
    "    Parses a text file of genome sequences into a dictionary.\n",
    "    Arguments:\n",
    "      filename: str - The name of the file containing the genome info.\n",
    "      ordered: bool - Set this to True if you want the result to be ordered.\n",
    "    \"\"\"\n",
    "    result = OrderedDict() if ordered else {}\n",
    "\n",
    "    last_name = None\n",
    "    with open(filename) as sequences:\n",
    "        for line in sequences:\n",
    "            if line.startswith(NAME_SYMBOL):\n",
    "                last_name = line[1:-1]\n",
    "                result[last_name] = []\n",
    "            else:\n",
    "                result[last_name].append(line[:-1])\n",
    "\n",
    "    for name in result:\n",
    "        result[name] = ''.join(result[name])\n",
    "\n",
    "    return result"
   ]
  },
  {
   "cell_type": "code",
   "execution_count": 3,
   "metadata": {},
   "outputs": [],
   "source": [
    "# numbers txt file reader\n",
    "def parse_numbers(path):\n",
    "    \"\"\"\n",
    "    Parses a text file of numbers into a list\n",
    "    \"\"\"\n",
    "    with open(path, 'r') as handle:\n",
    "        for line in handle:\n",
    "            if not line.strip():\n",
    "                continue  # This skips blank lines\n",
    "\n",
    "            values = [*map(int, line.split())]\n",
    "            return values"
   ]
  },
  {
   "cell_type": "code",
   "execution_count": 4,
   "metadata": {},
   "outputs": [],
   "source": [
    "# RNA codon table\n",
    "rna_codon = {\"UUU\" : \"F\", \"CUU\" : \"L\", \"AUU\" : \"I\", \"GUU\" : \"V\",\n",
    "           \"UUC\" : \"F\", \"CUC\" : \"L\", \"AUC\" : \"I\", \"GUC\" : \"V\",\n",
    "           \"UUA\" : \"L\", \"CUA\" : \"L\", \"AUA\" : \"I\", \"GUA\" : \"V\",\n",
    "           \"UUG\" : \"L\", \"CUG\" : \"L\", \"AUG\" : \"M\", \"GUG\" : \"V\",\n",
    "           \"UCU\" : \"S\", \"CCU\" : \"P\", \"ACU\" : \"T\", \"GCU\" : \"A\",\n",
    "           \"UCC\" : \"S\", \"CCC\" : \"P\", \"ACC\" : \"T\", \"GCC\" : \"A\",\n",
    "           \"UCA\" : \"S\", \"CCA\" : \"P\", \"ACA\" : \"T\", \"GCA\" : \"A\",\n",
    "           \"UCG\" : \"S\", \"CCG\" : \"P\", \"ACG\" : \"T\", \"GCG\" : \"A\",\n",
    "           \"UAU\" : \"Y\", \"CAU\" : \"H\", \"AAU\" : \"N\", \"GAU\" : \"D\",\n",
    "           \"UAC\" : \"Y\", \"CAC\" : \"H\", \"AAC\" : \"N\", \"GAC\" : \"D\",\n",
    "           \"UAA\" : \"STOP\", \"CAA\" : \"Q\", \"AAA\" : \"K\", \"GAA\" : \"E\",\n",
    "           \"UAG\" : \"STOP\", \"CAG\" : \"Q\", \"AAG\" : \"K\", \"GAG\" : \"E\",\n",
    "           \"UGU\" : \"C\", \"CGU\" : \"R\", \"AGU\" : \"S\", \"GGU\" : \"G\",\n",
    "           \"UGC\" : \"C\", \"CGC\" : \"R\", \"AGC\" : \"S\", \"GGC\" : \"G\",\n",
    "           \"UGA\" : \"STOP\", \"CGA\" : \"R\", \"AGA\" : \"R\", \"GGA\" : \"G\",\n",
    "           \"UGG\" : \"W\", \"CGG\" : \"R\", \"AGG\" : \"R\", \"GGG\" : \"G\" \n",
    "           }"
   ]
  },
  {
   "cell_type": "markdown",
   "metadata": {},
   "source": [
    "### Problem 21 - Locating Restriction Sites"
   ]
  },
  {
   "cell_type": "markdown",
   "metadata": {},
   "source": [
    "A DNA string is a reverse palindrome if it is equal to its reverse complement. For instance, GCATGC is a reverse palindrome because its reverse complement is GCATGC. \n",
    "\n",
    "Given: A DNA string of length at most 1 kbp in FASTA format.\n",
    "\n",
    "Return: The position and length of every reverse palindrome in the string having length between 4 and 12. You may return these pairs in any order.\n",
    "\n",
    "Sample Dataset\n",
    "\n",
    "$\\gt$Rosalind_24\n",
    "\n",
    "TCAATGCATGCGGGTCTATATGCAT\n",
    "\n",
    "Sample Output\n",
    "\n",
    "4 6\n",
    "\n",
    "5 4\n",
    "\n",
    "6 6\n",
    "\n",
    "7 4\n",
    "\n",
    "17 4\n",
    "\n",
    "18 4\n",
    "\n",
    "20 6\n",
    "\n",
    "21 4\n",
    "\n"
   ]
  },
  {
   "cell_type": "markdown",
   "metadata": {},
   "source": [
    "### Solution 21"
   ]
  },
  {
   "cell_type": "code",
   "execution_count": 10,
   "metadata": {},
   "outputs": [],
   "source": [
    "m = 'TCAATGCATGCGGGTCTATATGCAT'"
   ]
  },
  {
   "cell_type": "code",
   "execution_count": 15,
   "metadata": {},
   "outputs": [],
   "source": [
    "def s21(m):\n",
    "    def palindrome(string):\n",
    "        #Reverse complement of a DNA string\n",
    "        def replace(string):\n",
    "            tr = str.maketrans(dict(zip('ACGT', 'TGCA')))\n",
    "            return string.translate(tr)[::-1]\n",
    "        #All substrings in DNA string\n",
    "        def substrings(input_string):\n",
    "            length = len(input_string)\n",
    "            return [input_string[i:j+1] for i in range(length) for j in range(i,length)]\n",
    "        #Finding all palindromes, only substrings with lenght between 4 and 12\n",
    "        subs = list(set(substrings(string)))\n",
    "        subs4_12 = []\n",
    "        for i in subs:\n",
    "            if len(i) >= 4 and len(i) <= 12:\n",
    "                subs4_12.append(i)\n",
    "        palindromes = []\n",
    "        #appending all substrings who are equal to the their reverse complement\n",
    "        for i in range(len(subs4_12)):\n",
    "            if subs4_12[i] == replace(subs4_12[i]):\n",
    "                palindromes.append(subs4_12[i])\n",
    "        return palindromes\n",
    "    def s21a(a, b):\n",
    "        result = []\n",
    "        for i in range(0, len(a) - len(b) + 1):\n",
    "            if a[i:i+len(b)] == b:\n",
    "                result.append(i+1)\n",
    "        for i in result:\n",
    "            print(str(i) + ' ' + str(len(b)))\n",
    "    for i in palindrome(m):\n",
    "        s21a(m, i)"
   ]
  },
  {
   "cell_type": "code",
   "execution_count": 16,
   "metadata": {},
   "outputs": [
    {
     "name": "stdout",
     "output_type": "stream",
     "text": [
      "5 4\n",
      "21 4\n",
      "4 6\n",
      "20 6\n",
      "7 4\n",
      "18 4\n",
      "17 4\n",
      "6 6\n"
     ]
    }
   ],
   "source": [
    "s21(m)"
   ]
  },
  {
   "cell_type": "code",
   "execution_count": 6,
   "metadata": {},
   "outputs": [],
   "source": [
    "FASTAfile = parse_sequences(DATA_PATH + 'rosalind_revp.txt')"
   ]
  },
  {
   "cell_type": "code",
   "execution_count": 17,
   "metadata": {
    "scrolled": true
   },
   "outputs": [
    {
     "name": "stdout",
     "output_type": "stream",
     "text": [
      "272 4\n",
      "639 4\n",
      "950 4\n",
      "219 4\n",
      "493 4\n",
      "6 4\n",
      "57 4\n",
      "362 4\n",
      "342 6\n",
      "46 6\n",
      "900 6\n",
      "279 4\n",
      "637 4\n",
      "476 4\n",
      "546 4\n",
      "462 6\n",
      "846 6\n",
      "452 6\n",
      "626 6\n",
      "545 6\n",
      "217 8\n",
      "625 8\n",
      "332 4\n",
      "415 4\n",
      "423 4\n",
      "949 6\n",
      "47 4\n",
      "797 4\n",
      "926 4\n",
      "496 8\n",
      "460 10\n",
      "117 4\n",
      "388 4\n",
      "453 4\n",
      "627 4\n",
      "995 4\n",
      "56 6\n",
      "184 4\n",
      "775 4\n",
      "838 4\n",
      "615 6\n",
      "218 6\n",
      "495 10\n",
      "498 4\n",
      "616 4\n",
      "938 4\n",
      "105 4\n",
      "528 4\n",
      "901 4\n",
      "497 6\n",
      "461 8\n",
      "845 8\n",
      "45 8\n",
      "494 12\n",
      "327 4\n",
      "346 4\n",
      "773 4\n",
      "106 4\n",
      "463 4\n",
      "847 4\n",
      "932 4\n",
      "988 4\n",
      "1 4\n",
      "126 4\n",
      "343 4\n",
      "436 4\n",
      "538 4\n",
      "972 4\n",
      "980 4\n",
      "116 6\n",
      "925 6\n"
     ]
    }
   ],
   "source": [
    "s21(list(FASTAfile.values())[0])"
   ]
  },
  {
   "cell_type": "markdown",
   "metadata": {},
   "source": [
    "### Problem 22 - RNA Splicing "
   ]
  },
  {
   "cell_type": "markdown",
   "metadata": {},
   "source": [
    "After identifying the exons and introns of an RNA string, we only need to delete the introns and concatenate the exons to form a new string ready for translation.\n",
    "\n",
    "Given: A DNA string $s$ (of length at most 1 kbp) and a collection of substrings of s acting as introns. All strings are given in FASTA format.\n",
    "\n",
    "Return: A protein string resulting from transcribing and translating the exons of $s$. \n",
    "\n",
    "Sample Dataset\n",
    "\n",
    "$\\gt$Rosalind_10\n",
    "\n",
    "ATGGTCTACATAGCTGACAAACAGCACGTAGCAATCGGTCGAATCTCGAGAGGCATATGGTCACATGATCGGTCGAGCGTGTTTCAAAGTTTGCGCCTAG\n",
    "\n",
    "$\\gt$Rosalind_12\n",
    "\n",
    "ATCGGTCGAA\n",
    "\n",
    "$\\gt$Rosalind_15\n",
    "\n",
    "ATCGGTCGAGCGTGT\n",
    "\n",
    "Sample Output\n",
    "\n",
    "MVYIADKQHVASREAYGHMFKVCA\n"
   ]
  },
  {
   "cell_type": "code",
   "execution_count": 48,
   "metadata": {},
   "outputs": [],
   "source": [
    "dic = {'string': 'ATGGTCTACATAGCTGACAAACAGCACGTAGCAATCGGTCGAATCTCGAGAGGCATATGGTCACATGATCGGTCGAGCGTGTTTCAAAGTTTGCGCCTAG',\n",
    "      'intron1': 'ATCGGTCGAA',\n",
    "'intron2': 'ATCGGTCGAGCGTGT'}"
   ]
  },
  {
   "cell_type": "code",
   "execution_count": 49,
   "metadata": {},
   "outputs": [],
   "source": [
    "def s22(dictionary):\n",
    "    string = list(dictionary.values())[0]\n",
    "    introns = list(dictionary.values())[1:]\n",
    "    for i in introns:\n",
    "        string = string.replace(i, '')\n",
    "    protein_string = \"\"\n",
    "    for i in range(0, len(string.replace('T', 'U'))-(3+len(string.replace('T', 'U'))%3), 3):\n",
    "        if rna_codon[string.replace('T', 'U')[i:i+3]] == \"STOP\" :\n",
    "            break\n",
    "        protein_string += rna_codon[string.replace('T', 'U')[i:i+3]]\n",
    "    return protein_string"
   ]
  },
  {
   "cell_type": "code",
   "execution_count": 57,
   "metadata": {},
   "outputs": [
    {
     "data": {
      "text/plain": [
       "'MVYIADKQHVASREAYGHMFKVCA'"
      ]
     },
     "execution_count": 57,
     "metadata": {},
     "output_type": "execute_result"
    }
   ],
   "source": [
    "s22(dic)"
   ]
  },
  {
   "cell_type": "code",
   "execution_count": 59,
   "metadata": {},
   "outputs": [
    {
     "data": {
      "text/plain": [
       "'MWACPSGSRMSCPPSYTSAGIFPPASTLPSTWQGFRAPLCRTSSGTRNPMSSNRLIVCHGTFRFSICSKPPYVWGRSPRLLATSILELSTSNTHTVLDTVAGNDFMANPSMHTLAPGCKCFVQNVVYLRDSTCLDKSAAARSVSCGMNSRKCGPPCALYDTFR'"
      ]
     },
     "execution_count": 59,
     "metadata": {},
     "output_type": "execute_result"
    }
   ],
   "source": [
    "s22(parse_sequences(DATA_PATH + 'rosalind_splc.txt'))"
   ]
  },
  {
   "cell_type": "markdown",
   "metadata": {},
   "source": [
    "### Problem 23 - Enumerating k-mers Lexicographically"
   ]
  },
  {
   "cell_type": "markdown",
   "metadata": {},
   "source": [
    "Assume that an alphabet $A$ has a predetermined order; that is, we write the alphabet as a permutation $A=(a_{1},a_{2},…,a_{k})$, where $a_{1}<a_{2}<⋯<a_{k}$. For instance, the English alphabet is organized as $(A,B,…,Z)$.\n",
    "\n",
    "Given two strings $s$ and $t$ having the same length $n$, we say that $s$ precedes $t$ in the lexicographic order (and write $s<_{Lex}t$) if the first symbol $s_{[j]}$ that doesn't match $t_{[j]}$ satisfies $s_{j}<t_{j}$ in $A$.\n",
    "\n",
    "Given: A collection of at most 10 symbols defining an ordered alphabet, and a positive integer $n(n\\leq10)$.\n",
    "\n",
    "Return: All strings of length $n$ that can be formed from the alphabet, ordered lexicographically (use the standard order of symbols in the English alphabet).\n",
    "\n",
    "Sample Dataset\n",
    "\n",
    "A C G T\n",
    "2\n",
    "\n",
    "Sample Output\n",
    "\n",
    "AA\n",
    "\n",
    "AC\n",
    "\n",
    "AG\n",
    "\n",
    "AT\n",
    "\n",
    "CA\n",
    "\n",
    "CC\n",
    "\n",
    "CG\n",
    "\n",
    "CT\n",
    "\n",
    "GA\n",
    "\n",
    "GC\n",
    "\n",
    "GG\n",
    "\n",
    "GT\n",
    "\n",
    "TA\n",
    "\n",
    "TC\n",
    "\n",
    "TG\n",
    "\n",
    "TT\n"
   ]
  },
  {
   "cell_type": "markdown",
   "metadata": {},
   "source": [
    "### Solution 23"
   ]
  },
  {
   "cell_type": "code",
   "execution_count": 81,
   "metadata": {},
   "outputs": [],
   "source": [
    "import itertools"
   ]
  },
  {
   "cell_type": "code",
   "execution_count": 107,
   "metadata": {},
   "outputs": [],
   "source": [
    "def s23(string, k):\n",
    "    perms = []\n",
    "    for p in itertools.product(string, repeat=k):\n",
    "        perms.append(p)\n",
    "    joiner = \"\".join\n",
    "    for i in (list(map(joiner, perms))):\n",
    "        print(i)"
   ]
  },
  {
   "cell_type": "code",
   "execution_count": 108,
   "metadata": {},
   "outputs": [
    {
     "name": "stdout",
     "output_type": "stream",
     "text": [
      "AA\n",
      "AC\n",
      "AG\n",
      "AT\n",
      "CA\n",
      "CC\n",
      "CG\n",
      "CT\n",
      "GA\n",
      "GC\n",
      "GG\n",
      "GT\n",
      "TA\n",
      "TC\n",
      "TG\n",
      "TT\n"
     ]
    }
   ],
   "source": [
    "s23('ACGT', 2)"
   ]
  },
  {
   "cell_type": "code",
   "execution_count": 112,
   "metadata": {},
   "outputs": [],
   "source": [
    "lines = open(DATA_PATH + 'rosalind_lexf.txt').readlines()"
   ]
  },
  {
   "cell_type": "code",
   "execution_count": 113,
   "metadata": {},
   "outputs": [
    {
     "data": {
      "text/plain": [
       "['A B C D E F\\n', '3\\n']"
      ]
     },
     "execution_count": 113,
     "metadata": {},
     "output_type": "execute_result"
    }
   ],
   "source": [
    "lines"
   ]
  },
  {
   "cell_type": "code",
   "execution_count": 117,
   "metadata": {},
   "outputs": [],
   "source": [
    "s23(lines[0][:-1].replace(\" \", \"\"), int(lines[1][:-1]))"
   ]
  },
  {
   "cell_type": "markdown",
   "metadata": {},
   "source": [
    "### Problem 24 - Longest Increasing Subsequence "
   ]
  },
  {
   "cell_type": "markdown",
   "metadata": {},
   "source": [
    "A subsequence of a permutation is a collection of elements of the permutation in the order that they appear. For example, (5, 3, 4) is a subsequence of (5, 1, 3, 4, 2).\n",
    "A subsequence is increasing if the elements of the subsequence increase, and decreasing if the elements decrease. For example, given the permutation (8, 2, 1, 6, 5, 7, 4, 3, 9), an increasing subsequence is (2, 6, 7, 9), and a decreasing subsequence is (8, 6, 5, 4, 3). You may verify that these two subsequences are as long as possible.\n",
    "\n",
    "Given: A positive integer n$\\leq$10000\n",
    "followed by a permutation $\\pi$ of length $n$.\n",
    "\n",
    "Return: A longest increasing subsequence of $\\pi$, followed by a longest decreasing subsequence of $\\pi$.\n",
    "Sample Dataset\n",
    "\n",
    "5\n",
    "\n",
    "5 1 4 2 3\n",
    "\n",
    "Sample Output\n",
    "\n",
    "1 2 3\n",
    "\n",
    "5 4 2\n",
    "\n"
   ]
  },
  {
   "cell_type": "markdown",
   "metadata": {},
   "source": [
    "### Solution 24 "
   ]
  },
  {
   "cell_type": "code",
   "execution_count": 8,
   "metadata": {},
   "outputs": [
    {
     "name": "stdout",
     "output_type": "stream",
     "text": [
      "148 187 254 263 280 315 395 407 421 465 472 579 621 630 651 788 821 833 954 989 1076 1230 1254 1259 1291 1311 1351 1437 1440 1441 1510 1529 1544 1605 1636 1653 1727 1833 1863 1913 2001 2089 2110 2208 2277 2279 2423 2500 2506 2529 2543 2561 2576 2581 2660 2674 2691 2701 2712 2715 2725 2752 2901 2913 3011 3044 3048 3119 3124 3139 3160 3188 3243 3270 3282 3299 3327 3408 3440 3499 3528 3569 3591 3614 3623 3678 3763 3930 4045 4096 4129 4139 4242 4252 4263 4267 4292 4349 4406 4505 4545 4598 4604 4645 4662 4677 4726 4785 4787 4846 4851 4852 4893 4918 4922 4972 4999 5180 5187 5336 5429 5563 5580 5653 5696 5704 5769 5822 5872 5926 5939 5971 6142 6212 6258 6283 6290 6304 6330 6373 6378 6454 6499 6517 6549 6620 6705 6734 6920 6956 6968 7004 7007 7016 7082 7124 7174 7395 7521 7542 7624 7731 7813 7823 7839 7912 7945 8108 8302 8311 8316 8450 8770 8807 8895 8938 9056 9118 9175 9221 9321 9390 9424 9606 9744 9878\n",
      "9874 9867 9783 9759 9738 9733 9642 9641 9620 9482 9304 9140 9097 9062 8995 8842 8838 8808 8746 8731 8650 8648 8634 8624 8617 8533 8421 8281 8149 8098 8094 8019 7949 7856 7764 7728 7723 7611 7569 7530 7525 7412 7374 7347 7249 7218 7209 7168 7044 7035 6995 6977 6939 6870 6732 6722 6650 6607 6514 6495 6480 6453 6445 6397 6379 6309 6288 6080 5986 5740 5736 5670 5616 5473 5395 5328 5327 5261 5236 5219 5175 5165 5154 5120 5099 5024 5021 4913 4878 4849 4743 4687 4676 4538 4511 4393 4216 4205 4204 4176 4157 4118 4117 3946 3930 3908 3785 3746 3657 3608 3588 3466 3464 3447 3442 3421 3302 3293 3265 3222 3172 2984 2887 2843 2810 2804 2765 2760 2694 2665 2655 2606 2557 2532 2468 2454 2342 2263 2238 2174 2020 1999 1968 1952 1921 1905 1862 1600 1571 1414 1390 1385 1353 1297 1278 1274 1255 1208 1159 1107 1104 990 973 968 957 950 918 877 829 818 811 746 740 712 658 647 619 546 467 379 347 345 322 237 207 194 184 180 81 52 48 3\n"
     ]
    }
   ],
   "source": [
    "# http://saradoesbioinformatics.blogspot.com/2016/07/longest-increasing-subsequence.html\n",
    "data = []                                #This first bit reads the file which\n",
    "with open(DATA_PATH + 'rosalind_lgis.txt', 'r') as f:   #contains the the length of the \n",
    "    for line in f:                       #permutation and then the permutation, \n",
    "        for nr in line.split():          #separated by spaces. The numbers are \n",
    "            data.append(int(nr))         #appended to a list as integers.\n",
    "perm = data[1:]\n",
    "\n",
    "\n",
    "def increasing(seq):\n",
    "    P = [None] * len(seq)\n",
    "    M = [None] * len(seq)\n",
    "\n",
    "    L = 1\n",
    "    M[0] = 0\n",
    "    for i in range(1, len(seq)):\n",
    "        lo = 0\n",
    "        hi = L\n",
    "        if seq[M[hi - 1]] < seq[i]:\n",
    "            j = hi\n",
    "        else:\n",
    "            while hi - lo > 1:\n",
    "                mid = (hi + lo) // 2\n",
    "                if seq[M[mid - 1]] < seq[i]:\n",
    "                    lo = mid\n",
    "                else:\n",
    "                    hi = mid\n",
    "\n",
    "            j = lo\n",
    "        P[i] = M[j - 1]\n",
    "        if j == L or seq[i] < seq[M[j]]:\n",
    "            M[j] = i\n",
    "            L = max(L, j + 1)\n",
    "\n",
    "    result = []\n",
    "    pos = M[L - 1]\n",
    "    for k in range(L):\n",
    "        result.append(seq[pos])\n",
    "        pos = P[pos]\n",
    "\n",
    "    return (result[::-1])\n",
    "\n",
    "\n",
    "def decreasing(seq):\n",
    "    P = [None] * len(seq)\n",
    "    M = [None] * len(seq)\n",
    "\n",
    "    L = 1\n",
    "    M[0] = 0\n",
    "    for i in range(1, len(seq)):\n",
    "        lo = 0\n",
    "        hi = L\n",
    "        if seq[M[hi - 1]] > seq[i]:\n",
    "            j = hi\n",
    "        else:\n",
    "            while hi - lo > 1:\n",
    "                mid = (hi + lo) // 2\n",
    "                if seq[M[mid - 1]] > seq[i]:\n",
    "                    lo = mid\n",
    "                else:\n",
    "                    hi = mid\n",
    "\n",
    "            j = lo\n",
    "        P[i] = M[j - 1]\n",
    "        if j == L or seq[i] > seq[M[j]]:\n",
    "            M[j] = i\n",
    "            L = max(L, j + 1)\n",
    "\n",
    "    result = []\n",
    "    pos = M[L - 1]\n",
    "    for k in range(L):\n",
    "        result.append(seq[pos])\n",
    "        pos = P[pos]\n",
    "\n",
    "    return (result[::-1])\n",
    "\n",
    "incr = increasing(perm)\n",
    "decr = decreasing(perm)\n",
    "\n",
    "print(*incr)\n",
    "print(*decr)\n"
   ]
  },
  {
   "cell_type": "markdown",
   "metadata": {},
   "source": [
    "### Problem 25 - Genome Assembly as Shortest Superstring"
   ]
  },
  {
   "cell_type": "markdown",
   "metadata": {},
   "source": [
    "For a collection of strings, a larger string containing every one of the smaller strings as a substring is called a superstring.\n",
    "\n",
    "By the assumption of parsimony, a shortest possible superstring over a collection of reads serves as a candidate chromosome.\n",
    "\n",
    "Given: At most 50 DNA strings of approximately equal length, not exceeding 1 kbp, in FASTA format (which represent reads deriving from the same strand of a single linear chromosome).\n",
    "\n",
    "The dataset is guaranteed to satisfy the following condition: there exists a unique way to reconstruct the entire chromosome from these reads by gluing together pairs of reads that overlap by more than half their length.\n",
    "\n",
    "Return: A shortest superstring containing all the given strings (thus corresponding to a reconstructed chromosome).\n",
    "\n",
    "Sample Dataset\n",
    "\n",
    "$\\gt$Rosalind_56\n",
    "\n",
    "ATTAGACCTG\n",
    "\n",
    "$\\gt$Rosalind_57\n",
    "\n",
    "CCTGCCGGAA\n",
    "\n",
    "$\\gt$Rosalind_58\n",
    "\n",
    "AGACCTGCCG\n",
    "\n",
    "$\\gt$Rosalind_59\n",
    "\n",
    "GCCGGAATAC\n",
    "\n",
    "Sample Output\n",
    "\n",
    "ATTAGACCTGCCGGAATAC\n"
   ]
  },
  {
   "cell_type": "markdown",
   "metadata": {},
   "source": [
    "### Solution 25"
   ]
  },
  {
   "cell_type": "code",
   "execution_count": 5,
   "metadata": {},
   "outputs": [],
   "source": [
    "dic = {\"Rosalind_56\":\n",
    "'ATTAGACCTG',\n",
    "'Rosalind_57':\n",
    "'CCTGCCGGAA',\n",
    "'Rosalind_58':\n",
    "'AGACCTGCCG',\n",
    "'Rosalind_59':\n",
    "'GCCGGAATAC'}"
   ]
  },
  {
   "cell_type": "code",
   "execution_count": 13,
   "metadata": {},
   "outputs": [],
   "source": [
    "sequences = list(FASTAfile.values())"
   ]
  },
  {
   "cell_type": "code",
   "execution_count": 15,
   "metadata": {},
   "outputs": [],
   "source": [
    "not_first = []\n",
    "for i in range(len(sequences)):\n",
    "    for j in range(len(sequences)):\n",
    "        if i != j:\n",
    "            if sequences[i][:len(sequences[i]) // 2] in sequences[j]:\n",
    "                not_first.append(sequences[i])"
   ]
  },
  {
   "cell_type": "code",
   "execution_count": 27,
   "metadata": {},
   "outputs": [],
   "source": [
    " def s25(fasta):\n",
    "    unique_first = True\n",
    "    sequences = [fasta[sequence] for sequence in fasta]\n",
    "    # find the sequence with unique first half\n",
    "    not_first = []\n",
    "    for i in range(len(sequences)):\n",
    "        for j in range(len(sequences)):\n",
    "            if i != j:\n",
    "                if sequences[i][:len(sequences[i]) // 2] in sequences[j]:\n",
    "                    not_first.append(sequences[i])\n",
    "    if len(not_first) == len(sequences) - 1:\n",
    "        for seq in sequences:\n",
    "            if seq not in not_first:\n",
    "                first_seq = seq\n",
    "    \n",
    "    if unique_first == True:\n",
    "        shortest_superstring = first_seq\n",
    "        sequences.remove(first_seq)\n",
    "    \n",
    "    # find and add the next sequence until all the sequences have been used\n",
    "    while len(sequences) != 0:\n",
    "        for sequence in sequences:\n",
    "            if sequence[: len(seq) //2] in shortest_superstring:\n",
    "                new_seq = sequence\n",
    "                sequences.remove(new_seq)\n",
    "                break\n",
    "        stop = shortest_superstring.index(new_seq[: len(new_seq) //2])\n",
    "        shortest_superstring = shortest_superstring[:stop]\n",
    "        shortest_superstring += new_seq\n",
    "    return shortest_superstring"
   ]
  },
  {
   "cell_type": "code",
   "execution_count": 28,
   "metadata": {},
   "outputs": [],
   "source": [
    "FASTAfile = parse_sequences(DATA_PATH + 'rosalind_long.txt')"
   ]
  },
  {
   "cell_type": "code",
   "execution_count": 29,
   "metadata": {},
   "outputs": [
    {
     "data": {
      "text/plain": [
       "'CTATCGTGGTGGTTTAACAGGCTACGCTGCGTACCGCAAGTGTCCATGAATGTTGCAAATTATAGCGGGACACAGAGCATAAGAGGTAAACAGTTACGCCCAAAGACGAGTAATGGAATCCTGTACTTTGTCATCTTTTGATACGGGGCCTATCGGTCCTCTGACCGCATTGGTTCACCTATAGCCGGGTCGTTCTTTTTATCCCCAGGACACGGCTCTAGGAAGAATCGAAAGGACCCCCAATGCTCGTCATAGCAGTTGCAAAAGTTACGGAAGGGTCATCACGCCTCGCGAGTGCCTGTTGGGAAAAATACTTCTGCATTCGATGTGGGTCCACCTGGAGTGAGATTATCGCACGGGGCGTCAACTCAGAAGTCACGTTCACATAATACTATGAAGATCGGTTGCACACAGACCCTTTTCCCATACCCAAACATGGTTATCTGTTCGTGGTACCGTATCCTTTTATAGGAATGTCGGGGGGAACGGGCCGGAGCAGCGACGACTTTAGTGTCCCGGACTCCTAATATCGGGCGCTTCTGTGGGATCAAATCTGTAAAACAGGCGAGGTAGGTGAATACTCCTATCTTGTATCGTTTTGAGCATAACGCGCACTACTTGGGGAACGAATCAATTGTTCTACGGCTCTACCGCCGCCTTACGGTTAGATCACGTCCCCTAGGAACCAACCCTTATACTCTAATGGGTCAAAGTTCCTTTTTTATGGTTTAAATAGCTTCACATGCGCGCATGCCTCAGAATGAAAATCAAACTGATACAGTGCCCTTCTCGGAGCCGTATGTAGCTGCGGGCGCGACGTAAACTCCCTCGTGCTAGGCGGTAACAACATCGCTCTGCTGTCCGAATCAGCTATAATCTAAACTGTACACCCCTCGTGCGTCGCGGACCGGCTTAACTTGCCAATCATGTACGGGCCGAGCTCGCTGCCATACGCATCTTGTCCTGATTAGTCCTTGCCCGTGCTGAATTCCCATGGCGGGGTAGTGCAAAGGGTGAACTCTCAACTCGATGTAGTACGAATAGTTTATTGACTCTTAGGCCGCTTTCGCGCGAGCATTCAGCGAGATTCTACACCATGTCAGCCGAACAAACGCTCGTTACGATTAGGTACCCTGGGAAAACGTATTATGGGGTATCCCTTAAAGCATGTTTAGATCTCCGGCGCAAGGTGATCAATGACGCAGCTTATGACTAATATGATCAGAGACCAGTTCCTCAATACTAGTCAAGATTAGGCATCCGGAAAAGGCGCTTAGATCATTCAGGTGCCTTCCCTTACTATAAAATAGATCTGATACTGGCGGACGTCACCCAAGAGATAGATAAGAACTAAGTCCGGACGCAGGGAATAACGACGAACGCGGCATCAGGTAGTGATGGGAACGTGTTCTGGATATTTTATCTCCGTAGACCGAACCCCCAAATTAACATTCCCGTTCGAGCTTAATAAACTCTAGGCATCGTTTCGCCCGCGGGCTATGGGCCTGTCCCACGCCGGGATGGGTAGATTAAGATGAAGGGACTTGAAGAAGACTAGTGAAAATGTCTTCGCAAGTCGGGACAGAACTTCGACGGGGGGGAGCCGAGGCTCTGCCTTATAGGCATGACCCCTCAACGTAGGCTCCGAGGGTTCTTTTAGACGATCCCAAAAAGTCGCTGAAGGCAAGTGAAGCCCCTTCTGACCGATATCGTAGAGTTTCAAACTATGTCCGAGCGAAAGCAAGGCACTCTCACACGTTGGACAGACCACCGACGCATGGTCTACGCAGGTTACTTCGCGGCGCCCATGGATTCACGGCGGTGCGTGCTATTATAACGCGCACGATGACTCGCGCTTATGAATGCAGGGGGTACTCATAACCGACTGGGGACGGACATCGCTTTCCGTCATAACGGGCCTGCAACGAAAAACAGAACGTCCCTCTTCCCGGATACGATCGCTTAATTTTAGGACGTGCCCCACCCGTCCGGATGCCTGTATTCCCTGCCGGACAGATTCCCTTAACGCGAGTTAACATTGATTGTAGTTTAGAAGGTGTTGTCGTTTAGCTTTCTTCATGGTTGGATATCATCTATGGGTAGCTCGACGGCTCGTGCTCACGGTTATGGCTATAAAACACATGACATACACGGTGCGAAGACAAGTGCTTCTACTTATTCATCACTTTTCTACGACGTGACCATCGGTGTAGATTCGTACAGATGTGCGGTCTGTGCCGGGATTAATGTCGGCTGTACTCCATCGCTTGGGCAGCATGCCCCCTGCCAGGAAAAAACAGTGCTCAGTGGAGTAAAGCATAAACTTAACCTATGTTTGGGTGATATGGTGATAATATCCTAGGACGGCTCAGACCAGAATTGTCTTTCAGACTTGGGGGACGGCCCCGTAACGTGCAGGGAAGTAGCCCCTGGATTGTTTAGGACGCCCCCACACCCTGTACGATATTCCTGGGCGTCCTGGGGCGACCCGCCAGAGACCGCTTGTGTTTGTTAACAGACCGGCTACTCGTATCGCAGCTTGATTTGACAGATTCTGGTGTAAACGGCAGTAAAAGGCACATGGGCTGGTACAGGCCCATAAACCCAGAAGGAATAGACAACCTAATAGTAACCGCAGTTTGAGGGAAATCGAACCTAACGGTCTTGCGCCAAGCCGAGGTTGAGGATCATGCATCCCTTAGGCTCCGCGGAGCCGCACTGATTACAACGAGCAGACAACGACGTCGCGTTGAGTTGCTCACGCAGAGACACGGGCACATTAGCACCGTCAGGCTATGGCTAGGATCGCCACGATGGCAGCTTAATGCTGACAGATGACTTGTCAGCAGTCGCGCGTACCTATTGCTAAGGGCACGTTTCTATCTCAAACAGGCATCGCCTCAGTAGTCTTCTAATGTCTTGCGGAGGCGATGTTCGAGAAGACAGACGCGGGGAGCTGGAAGCCACGTTAGTGGCTGGTACTGATGAGAAGTTTTGGATGTCATTTTTGCGGCTGGGATGTTTAAACGGGATGGCGTACCTATCAGTCGCTAGATGGATTTGACGCGAAAGATTCACTCACTTAGGACATCGCGACGTAAGTTCCACACCTGTTTTACCTCCCGATACTCTGCCACAGGTCTCCCAAAGAGCCCTGGAAAGGGAGCAGTGCTCCCACTGGATCGGATTTATCTTATGGACTGTGCCGTATACCATGCAACAGCTAACCGACGAAGTGTGGGGAATTGGAGACGGATATTGCCCCCGTGAACCTTCCGAGCGTAAGATTGCCAATAGCATCCGGGCTATGGTACGTACGTTTGACCTATGAAGGCATTGTCCCTACCGTGACTATCTTTAGTCGGATGGCCACCTAGCGCAGATATCGGGGATGTGCGCCCCCTGACCCTAGGACCATAACGGATGTACACGCCTGTACAGAACACGATCCCACGCTCTCGCCAGTCGACACCCCCATACATCGCGTATCACACTTTATTAATCTCGACACGGCCGGCACCAATGTTAGAATTGCTCAAAGACTGTTTGGTGCCCCTTTTGGGCTGTTGAGAATAAGACTAACGTGTGTACGTCTTGTTTGCGCTACTCTTATTGTACTTGAACCTCTAAGGGGGGACATCGGCCGTCCACCGCGGCTCGCTGTTGCATCGTGGCAGTAAAAGTACTCTCATGAATGGGACCCAGTTATCGCGTAGCTAGAAGAGTCGGTTCCAAGTAATGTGGAAGGTTATGTTAATAAACAGGGACCGTATATTCGCGTTTAAAATCAATGTTACATAGACACTTATTTCTCCGATGACCGACCCGTCAGTTCGGGTGAGACCGGGCTCTGAGTGATACCCTCCTGTGTTTAATTCTACCAAAACAGTAGAGGAGGTCTTGTGTCGCCAGCCAGACAAAGCTAGAGTCGCATGTGACGCTGTCGCGGTCCACCTACCTTATAGGCATTCCGGACCCGATATAGAAACGCCCCTGAAGCTACATGTACTAGCTATGGCACTTTTAGTTTATGTGCAACGTGACACGGTATTACGTGATTGATTAGAGTCGGAGTTGCGGCGTCTTTCGTGAGACTATGATCGGTCTAGACAATGGGTCTCTCAATCCACACCTGACAGCCTCCGCCGCATTTCGGGGGCTTTGGTAGGAACGATGATTCTATGGCTACTTACACACCTCTCTTAGTAGCTCATGAATCCGGTCCGTGTGTTTGTGATAAGTCCACCGACAATGCTTCCCAACATTGCGTAACAACTGCGCCGGCTCTAATGGCAATACGTTATGCTCTCCATACTCAATTTTCCGGGGTAATCTTCAACGTGCATTTCGGACCCCTGAACAAGCTATTCGAGGCTTTCCGAGGCCCCCGTTAACTCTCCCAACAGCTCCTCTGCCACCCTCACACGGAGATCTATGCAAGGTTTGTTCTCCCAGGATATACGAGGAGCCCACTCTGCGTTGCTCTATAGCTGTCGGTCACTAACAAGTCGTTGTTGCCGCGGGTGTGTAACTCCATGGCTGCAAATCGTTACGGAGTCCTGATACCGGTTACTTCTCTAACCAAAGCCAATCTGCCCTGGGACACCGGTTCTTGCTATCCGAAATTAGATTTAGGACCGGTACAGCACGTTTGTGCGGACCGTGGCTTTGCCGATAGAGTGTGGACCGCTCATTCCTTTCGTGAGTGAGCTGAGGCGTGCAACTACCGTTGGTTGTCACATGTTTAAAATTCTCTATACCCCATAGTGGTTTCACCCCCGCTACTGCTGGTTTGCACGCGCGGAGTAGGAAGACGTATTGCCACGGCCAACGGTGTGGGGCCTACCTTTCATACCGATATAGCTGGAAATAGAGGATGGCTATTAATCCATCGGCAGACACATCGTGTTATATGTGTTTCAAGGACGGTCGATACTGTAGTCGGCCACCTGAAGGCGGCTCGAGGTATCATCTGATACCAACCCCTGGGCCCCCTGTGTCTATACAGAACGTACCGCCAAATAGTTACACGCCGATCATCTTGACATAGGGATAACTACTATGTGGGCGGAAAACCATTCACCAATCTGGCGGTTGTTCCCTGCCATAATAATAAAAGTTACTTTACCTATGGTTATCAAGCTTCGCTGGAAAAAGGCACGTTGGTCAGCACCGAGACACCTGGACCTATGTTTTTGCCCCATAAATAAGTCGGCGTTAAAATTAGGTAAATCCAAGCTTGACTCTATTCGAAGGATCGTGTCTATGATATGTTAACTGACGACTTCCATTCGATCGTGTCATGATGAATGTCGGTACAAGTCGTGCCTGTGCGAGACAGGACTGAACCGATTTCTCGGGACAGACGTGCGAGAGAGCCAGTGGCACACGCGCAACCAGGGGACAAGTGATCCGCCCTCCGCCTCGTTGCACCTGCCTGCTTAGGCTCCGCTATGCGAGCGGGCTAGGGCACACCTCTATCACCCCTTTGGTGTACCTAGATGCGAGGGCGTTGGTAATTTTCGTTCCCGTAGTCCGTAGAAGTCTGCGTACCCTAGACAAAGCTCTACCTCGGGCGTCCTTGCGTAAAGTACATGAAGTAATCCACAATTCCAGGCCGTCCCATGGCGTCGAGTTAAAGGACGAAAAACTATTGGACTGGGGCGAAATCTCGCCACGGAAGCCGGGACTACCTATGCGATCACCTCGTCCAGCCGTTACCTCACCAAGTTGCTCTATAGTTACCTATCATCCCGTTATCACAACGCTTATTACGACGAGGGACTTGCTCATGAATTCGGATTTATTTGGATTGTCAGATTGGTAGGCACCAAGACACATGGGTGAAGGCTTGACTTTATCTGGTTCGCTGGTATGTAGCCTATTGTACACGTTCGGCACTCTAAAGATTACCGAACGCTCTAGTACCGCCGCGGGGCCCGGATGCCGTAGGACCTAGACAAACCGGCTATAGGGCGTCCCGCTTTCGCATTCTCTCGGTCGAATAGTTGTCGAAATACCAAGCCGGTGGTAGTTAGGAGAACTTGCGGCTGTATCTAGCGCATAATTTGGATTGCCCCCGGGATAAATAGGCGAAGATGGGCACCTGGCGAAGGTTCACTCGACGCCCTGTCTCTACCTGTCGGATTGAAGCAGGGATTTATGTGGCAGGTCCAGAAAGAGATCGGCATGCGGAAAGGCGGTTCAACGATCTCCTACCATCATGTGGCGGTCGCTACAATACTGAACGCAGCCAGCTTTCGCTTGTCAGGGACAAACATTGAGAATCTGGAATCACATGTGATTATGCCCGGGCGCTAGTAGTGGATGTACCTAGAATCAAATGATACCTGTGCTGGTGTGATATACCAGATGACGTGGTTAGGGATTTGCGGCGCATGCGATGAAACAATAATCATTCCGTCCGCTCCACGCCTCCATGATTCGGGTGGAGTGGCATCCGCGCCGGTCCGGTCACTAAGAATAATGTTCCAGACCGTGGGCTTCCTGGCATGATGTTAGTACAATTTAGGCAGTAAACTGATCAATGTTTCAACCCAGCGACTACATTCTCCACTCACCGGGGTAGACCGTGATGGCATCATTGGTTTTCCATGTCGCGCGTATTGTATGTTGAGGAAGCCAGGCTCTAGGACGTGCGCAACTGAAGGCTACCGACTCTTGAGACATCGTCCGATACTGCCGCCCGAAATTGAAGCAAAATTTATGGATGGCGAGGGAAATCCCATTTAGACGCTGGGACAAATATGAAGGGCCTGAGTGTGACTCTATGCCGATCAAACGTATCTTCCCTGCGTTAAATCTAAGGCGTTGTTCAGCGCGAGTCCTTTGACTAGAAGTATCAGTTATGGTTTTCGGCTGGCTGCCAGGCAAGCATGAAATCCGGTGCACGAAAGGATGTAAACCCTCTCCTCGTACGTTATGTGCGCACTGGCACCAACAAAAACAAATATTTTGGTTAATAAGCCGCCACATCCGGTTTAGAATCGGAGGGGTGCCATTGTACACTGCGTTCCACACTATGACGTCTGGATCGTAGTTCCCTTGATCTGTTTGGTAAGTGATGTCTCAGACTAATTAGTATAGATTAAGGTTAGTTACTCATTACACCCACAGTTACCATCGCCGCCGTAACATAGCGAGGTATACTATTGGCTACCATAGAACTCGTTTAGCACCCTCTGTATCGTGTCGCCGACTGCTCAGCGTAGTGCGTTGCGTAGCTTTACTGCTTGCGATTTGTAGGCAGTCTAGATTGTTCGTCACCTTCTTACAACGGTATGTGTATCACTGGACTAAAGTAGGCCCTAGTACAGATTTCCGCCTCTCCGTGTCACCTTATTAACGCCTTATATCACCCCGAGCTGTGCTCTGGAGAGGTGCCAGGCGGATCCGTGAAGCCGAATATTGCTCTCCCGTACCAGCTCGTCTCCAGTTTGGCCGTAAATTAGCCTTTAGGTTGCGCCAACTTAGCAGAGCATAATTAAAACATCAGAAAAATAGTATTTGGGCGACACAACGTTGCCTATTTCGTTGCCGTTAGAATAACGGCCATTAGAGGCTGGGTGCTCGTATTATCTTCGAACGTCACTTCGTTGTTGATCTCCAGGTCGTCAGGGGCGTTACTTAGAGGCAAACGATGTCCCAGGTGAATCGCTATGGAGCATATATAACATTCCCGCTTGTCTATAGATAATTGTGAGTCGAAAGGCCATGTATATCGAGCGAAACGTCTTGAGGTCAGTTCCGCAAGTTTGAGGAGAGCTCCATCAGGCTTTACTTTGTTTACAAAGCCCATTTCAGCTGCCACGAGGCTCTCATTGTAGCCCATTGTATTTAATGTAAAGTGAGGATATCGTAAAATGAGGACCATTGCCGTCTCGATACAACTTACGCTATTTTCTGCCCAATATAGGGTGGGAATCTCTAATCACTGTCACCCCCCGGAATAAGAAAAAGTGTGTCTTATGGCTTGTTTGATTGGCGAGTGGATCCCATATACAACTGATTTCAGTTGGTCCCCCGTGAATTCGTAGCGAGGTTTCGAAAAGGATACGGCGCTCTTTTTAATGCTCGTCGGGAGGTTGAACGTCTGAGGGCGACCTTGCCGCGCCGAACAGTGTGGTCAATTGATTCTGGAGACATTTCCGCAATGTCCCAGGAGACAATTAAAGAAAAATCTCAACTTGTTAGGCCTAATGTCGGGAGATTGTATCGCTAAGAGGTGCAGTTGCACGGGACTCGTCTATCCGTAACGTGAGCAACGAGTTGCTACTAGGCAAATAGCATTGCCTCATAGAGTAAATTACCGTAGTATAGTTAAAAATATTTCACGGGACATGGACATCAGTGGACAAGGGACCAATCGTACCATTGTAATACTAGCCTCAACTAGACGGCCACGAACCCTTTGGCAGGGTAGGGAATGCCGACATTTCCCCCCTTAATCAACAGACATGTCAAGATTACAGAGTTGTGCGCTAAGTTGTGGCATATGGCAACTAAAACTACTAGATCCCTGCATTTTAAGGTATAAACGTCCGGCGGGGATTCCGTTTTTCGGGCACAGCTAATTGGGGCTTGCGCTTATACTGATGGACCCCATAGAATACTTGTGAATTGCAGTATGCGTTAATCTCCTAAAAGATCCTTACTGCACGCTTATGGTTGAGAAGGGTAAGAGGTGAAAGACAGTTCCTGAAGCTCCCGTGCTCCCACGGTACCGCAGTGCATAGGCGGACCTGTAACGTAACCGGGAATCTTCTGTCTTAGGACCCTAACGCGGTGTTCGCCTCCGTTAGATGTAGCCGTTGTCCACAACGTAAGTCCTTGCGTATACAAAGTGTTTGGCGGAGAACAGGCGATACTCATACAGAGACAGTCCGCCGGCATTGTGAGACACATGGAATCATGACGTCTTTCTGGTGATCAGCGTGAATCATTAAAGCACTATCACACCATTGCTCCACTGGCCATAGTGGCTCCATCTGAGGTAGGGCACATACTCTTTAGCCTACACGCGGAGAAGGGACCGAAAGCAATAATAGGCGAGAATTCAACAGACCTTTCACCGCGCGCGTCAAGGGTGAGTGTCAAAAAAGCAGTGACTGTTTTGATTACAGGCAGGAATATCGCAGACGATGTTTAGTTGTGCGAGGAAACAACCCCTCCCTCAGTGGAATCTAGCACGCGGGTAAAGTTAGTTGGGGGGAAATTGGAGATCGAATGGGGCCCTCTTTGCGGAGCTACGAACCCAGATCTCGTAGCTGATATGACGCTGCGTTTGAACAAACACTATTCCGTCCTGCAGCCCATACCGAAAATTTATAGGAATGGAGGTAGGAGAAGGACGCTCTTTAACTAATGATTGTCTAACCGGGACAATTTACTCTCCTCTTAGTTCACTTCTGAAATATCGCTATAGATGATCGTTGCACAGTCTAGATCTGATAATAGACTAGTTCGTCAACAATGCGACATAGAGAGAGGACCCTTTCGTGGCTTGCGGAAACCCCTCTGTATGCAGCGACATGTGGATGCCGCCATGTGTGCTTCCGCACATTCAGCGCGATGTGATCAGACTGGTCGATGAAGACGGGAACCAGCCATGGTGTCCATCTTAGCTCGCTTATCGCTAACTGCGGCCGGTGCAATCAGAACCCAGTCTTCAAACACCCACATAATGGCACGGTCGGACTCTGTTGGCAACTGACTTGATACGGGAGGCCTGTTAAACCTCGTACTACAGCCGCGGGAGCATCTTACTAAAGGTGCGTGCCCCCCCTTCGCCGTACTTTCTCAGTGGATTCTGTAGGCTGGTGATATACTTTTGATGTCACCTAACCCAGGGCTCACCCTGAAACTAATGGACCTCGACGCGATGTTACTAATGGAGGCGTTGGCGTGCCGCCCCTAGCTGTGGACCACGTATTTTTTTCCTATCAGCGATAGCTCACAGTCCCCCTAACTAGCGCGCGGGAAATACTTCCGATATCGGTCCACTGTTGAACCTTGAGTCCAGCATGGACGACCCGAATGGTGTGGTGCGATATTACGGTGGATAGCTCTAGGTTCAACATTGATACGGTCATGAAAAGTGCTGTCTACGCTCTATATCGAAGACACATTTTACCCCCGACAAGAACCTATCCGGTAATGAGTAGCGCCAGTTATACGCACCGAGACTACAACGCGACGCAGGCTGGGATGGTGTTACGCACGCGCACGACCTCACCATACATTCTCGGTTCGATTGGCTTTACTCTGTGACAGAGCCCAAACGGTCAGGCAAGGTCTCTACAGAATTGAGAGACGATTCCTTACTTTAACTTGCGGGGGTAAACTGAGTTCTCGAGACACTCGTCAGCGGCATCGCTTGAGGCAACGGCCGGACTTAGAAGTAGCACCATGACGCCCTATGCGGAATGCAAAGGCGTTTACAGCTATCTCCGTTGCCACACCGAGAGTTCTAAAGTAAATACAAACCCTGCTTTCGATGTTCGGGCTGCACCCCGCTCTCCACTACGTCGCCATCGCCGAGAGTCCGGAGCGGCCTCCTTCTCACGCGGGTAATTCCAAGTTGGTAGAGTCCCTTCGGGGTAGCCAATGGAATAACTCACTCTTGACGCACATAGTAAGGAATTTGTGTTAAGTTTCCAAGTTACCTCTCATAATGGTATCTCAACTAGGAACACGGAACAGATATGGGCTTCCCCGTCGCGCATTTCGTTAAATTCAGGCCGTGTATAATTGTTTTTCAGCACCCTCACAATAGAGTCATTTAGAATGGGTGAAAGTGTTTGCCAATACACTCATAGTCCTATCGGGCCTAAGTGACCAATCGAGAGAGAAGTGCTAAAGCTGTAGGTCAAATAGGATATTTACCTCAGTGCCAACAGAATGTGAGAGCCCCCGACCCGGTTCTATTGTCATTAGCGGCCCATAGACCCAGGTCTGATTCATGTGCGAATAATCCAACATTACAGATGGTTTTCGTCACATACGAAGTTGTCATAACTATAGTCCTATTTTATGGCATCACGTCGAGGCCGTTGTCCCCCTGGGTCGCTGCGAATAACAGGCGGGACAGCTGGTACAGTCCAGAGACTCAAAGAATGAAGTCTCTTGTATGTAGACTCTGTTACCGAGACTGAAGGTGAGCCTCTTGCCTCTGCTTAGATTGACGGGAGATCATGTACCTGCCGAGGATTAATCTGTCGCAGGGTACGTGGGAATTCTATTGGAAATCCAACCCAAGGGCGTGCGAGCGTTCATTCAGTTCTGGGACGCAGAAAGTACACCCGTGGTAGACAGAGAAGTACGGTCGATCTGTTACCATCTCGGAAACCTCTGTATATAGAGATCTCATAGCTATACTCTAGCAGAGGTCCCTATCACTCAGCCCATTGCATCTCTTAATCGGACAAGAAGTTGAATCATCCTGCACCCTTAGCCGAAGATAGACGTGCTAAATGCCACTGTCATCGCCATGGCGTGTCAATGGCTCAGACGTAGTGAAGCATTGCGGGGCGGCCTCAAACGTGGTCTGTGCGCGGGCCGCGTTCCTGACCGCTCCACGCGGGAATAGCTGTTCGGAGGCGACCTCACGTCGGTTAAAGGGTGTTTCCTCGTAGGAGAGAGCAGTGGAATGTGCAATTGGGGGGGATAACGCGAGGCGGTGCTGCGGTAAGTAAGATATAATAGCACTTGACGAGACACCAAGGAAAAGCGACGTTCACGCGGGTCCCTGAGGTCCCCCCAACTTCGGCGACACTATCCTGCGATATGTGCTCCCACGTCCAAATTGCCGGTGGTCTTGGTCAGTACGATGGCAAATCGAACCGTCACCTTGATGCTTAGTACATACATACTCTACCGGATTCAACTAGGCCAAGAATCCGCCGCTCGACAACACTGTCTCCTTCTGTCGAGAACCTTAAATTCATTGGCTACCTTTCACTGCGGACCTCCGAAGGCGAGGGTTTTTGGGAGCATCATAGGCTAACGGGGTAGGAAAGGTTCATGCAATACGGCCGAGGCGGCATTGTACACCAAAGGTTTTAGCCAAGCGAATGGGACCAGTGTACTAAAGCACGCCAGGTTGGCTGCTCTTTATTACAAGAGATAGTGGGTGTCCAAAATCAGGGGCGCCCGTACCCCGGATGTATCGGTATTATTTATCAGGTCACGATTACGGTGGTCTATTAATCCTGAAATAGAGGTCTGCGCGCATCAGGGTGGACGCACCTAAGAGACTGCGCCCCCGCCAAATATTGTGCGAAACGAGAGATGCACACCGGTGCACCCTACAGGGCTAAGCAATAGTGGCTGTCGTATACGAACTTCTCAACGCGATGTCCTCGGCCTCAAGATCCAACAGCCTTAGCACCCCCGCAGGCAACAACAAGCAGTTAGCGTTGGTGACGACCAAAGTTCGCACATGCGCGGCTACACCGTCGTACAAGCTTCCCGGCAATACCTTATGCTTCATACGACCTGGATTCGTCCCCGGAGTTCACGAAATGCCTGTGCCCGACCAGTGGATAGTTCTTTAAAGTAAAGGTAACAAGGGCCCGAGAGCTACAGAGAACGGCGCGAAAGTTATTTACGGCGACGTCCTGTTTTCTACATTAGCGGTCGGAACAAGCTCCCCCCAGCTATGGGTGCCCGGTCGCCGCCCGTTGGTCCAGTTTGAGGACGCTAGTTTTGTGGATATTTATGAACGCTCTAACCGTGAATCTGGCTGGGCTGGCGTGTCCCTAAGCTATGCCGTCTTTTAATTACCAGGGTTTTAATGCAGTGGCAGTAAAATCCAGATTACCAACGAAACATGGATTTAAAAACCGGCGCTTGCTTTTCATAGAAGCTTTCGAGTGCTCTTGAGTATGACCGATAGCACGCTGGTTATGAGACGAGGGTTCGCATCCGCAAATACATGGGGTGATAGAACTAGCCCGTCATTGGCGAGAGGCCGCCAGTGTAGGTAGCCGCGGTAGAGCGCATCCACCTTGCGCAAGTACTTTATTCTTATTGCCGGGTGGGCAATACCGCCATAACGCAATCAGTCCCTGCGCAGCTTGGGCATGCCTACCCTAGCGAGAGCACCGTTTCGGTATCGGAAGGTGTCTAGTGGTTGGACTCAGCGACCAGGTATCGTCAGGTGTTCTGTACGGGCCGTCATAACGTCTGGGCTTTCTGGCCCTACGTTAATGGAAATCACAGTACTTGCCAAGCTTATGCTCTAACTAGGTCGGGAACAGGATGGCGGGCGCCAAGCTGCTCTCCGCCACTTGATCGACCTCGACGTGACAGCGAGCTGCTACGTTGACTGAACACTGTTGTAAGTGTGTTACGATGTCCCCTAGGAAATGCTCATAGTATTCATACACTAGCCGCGATTGGAGCAGTTGGGCTGGATTGAGCCACGGTACTAACACCGGCGTCGTTTTCTGTAGACCCACTCGTCAACCATACTCTCACATGGAAGATACCCTCGGTCAGAGGGCAGTCTATCAATGTGGGCTTCGCCAACGCAGACCCCAGCGGACGGGCAAGACCAAACGTGGTCTGAAGGACATGGTCAACTGTACCTGGTATTAATCAGCCCGCGTGCTGCGCTGGCACTGCACTGCTAGTGCCGATGTGCATAAGGCGGGGTTCATACCCACACCACCACAGAGCGCTTGTTCCCTCCCCCTTAGTTTGCCCGGATCACAGAGCTATATATAAAGATAGTCTCTCTCTTGGTACAAGGTTGACGAAGTTGACTTGACTCCTAGCACGCGTATCGAACCGAGAAAAGTTAAGTGTATTTCCGAACGAGGCCACAAATTCACATAGGGAACTTTACCTTTTTCTACAGGTAACGGACACAACAGCAGACTACACTGCGCCGGGTTACTCGAGCAAATCTGCATAGCACTGTTTGATTGGTACTTGTTTGGGAAAGCCTCCTTAGTCGTCGATCTGATCAGTATGCTTACAAACGGCCCACATAAGGACCCGCAGTGATCTGTCAGGAAGCATCCAACCGTCTGTACCTGTGCCTGTGACGCACGTATAAGGAGCAACTTTTACTGCCTACATGTATCCGGGCCCCCACATGCAGAACATAATTAGCGCGTTACAGCTAGCATTCTGTGTTCTGCGCCGGGGATTCGATCAATGACCGGCCCCGAGTACAACTTTGTAAGAGCGTTCCACTCAACCTGCTTGGGCTCTGAATTCTGTTCTCTCTTGTCTGCGTTCCTATTTAAAAGGTAAAGAGATCACCCCTAAGATTTTAAGTGCGTGGGCACGGGAGCAAGTCAATACTACCGGAGGGAGTGAAAGCGCAGTGCAATGGACTGCCCGACTCAGTGTAGATCATTAGCACAGCCCGGAGTAACTAAATCCGTCGGCTTAAGCTTCATTAGCGTACCTGGAAACAAACTCGAGACAACGACTAGCGCCTTGCATGTAGCTTCTATCCGGATCGAACTGGGCATCTACCGCTAAGGAACTCGAAATTGCCGACAGGTAAGCAGGTACGCCGCACTAGCCTCTATCACACAACATCGTTAAGATAGGCACACTGAACTCGAGCTCATAGCGTAGCCTTCACAATTCTGTTCTTGCCTCCGATCTACGGTGGTATGGGAATTCCAACGACCACGCGATAATGCTGTTTACAATAAGGAAAGAGGGTGATGCGCGATGGAGTATATCATGACATGGTGGTAAGTACCTTCCGTACGTGTCTTTAGTTAGGCGGCAGACTACCGGGTGTCTAGAGCAATGCCAGAAGATATACCATTATGGCAGCCCTTGCTAAAATTTCATCCCAACCCGAGCCCGTCCACCCTATGTTAACCAAATTCAATGAAGCGGGAGTGTGAATGCCTCCCGATCGGTTAGGTGGTGGAGGGGTGGTGTAGGATGCTCCTGGCGTCATTGATCTCCTACGGCCCTGGTGAAATGGTCTTTAAAACGGTTCAGGATTCCCTCCTGATTAGGATGTAGCGGGTGGTGGATAGGGCGCGTCGAGTTCTAATAAAGAGAAAGGATTAAGCAGCACCAGTTTGCTTTAGTCCCCATCCATAAAATTCGAGTTGGGAGTCCATATACCAATCGGCGGGTGTTAACCCAGTTGCCTGTCCGCGCGATATTAAGGTTCTCAGGATAGCGTAGTAGGAGGCGTAAAGTATACGCGCAGGTATCACGAAGCAGCCAAGGTAATGGTGATTATCGCGACGCAGACCGCGTGGGGGAATAGGATTCTGGACGAGTTGACACTCGCTTTTAGTTGCGAGCTGTGTCGCCCATTGGCCTCGCCCGTTTCTGACTATGAATCTTCAAGTTTACATGGCGTTAGAGATTAATTGGATGTTCTTTCTGTGCTACTGCGATACCAGCCATAGACTAATCAGGCTCAGTACGGGGACGGCTTCTTGGCCGTCCACATCGAGATTGTCCTTTCTGCTCTTCACTTTGGAGAAAAAACCAGCTAATCCGGGATGTGTTTGTCATTTCGCTCCCATTAGACTGGCATGGCTGTCTTCCGATACTCTTTCCTAAATTATCGGCGCACGTAGTCGCACGCGCTTAACTAAAAAAAGTGGAGCGCAGAGCATGTCTAATTAAACCCCCGACTGCCTTGGCGTTACCGACGGTCCTGTGTCTGTTTCCCGTTTAGGGCTTAAGTCCGTCGGATGCCCCAAGCCTCTGACTTAAATTCCCCAGTGAGGCATGGCTTCAGTTCCTCCTCACCATAGTCCGCCGAGCCGGAATGACGCCACGCGGACGGTTGTTTGTTGGTACAGCCAAAGGGCCACTTCCGTTGCACCAAGCGCAGAGTTACGCAACGAGGAGTGTTCAACAAAGGAGTCCGGGGTATCACTCCACCAATACGCGGCCCCGTATGGTTGTGCATTATCGGCGCTCGCCAGCAAATTTAGTAACCCCCAGCACATCAGTAACCTTAGACTTCGAACACCCTCGGACTGTGATGGACTATAACCACTGTCTGCACGTGGGTTGCCACAACCACATAATAGAGAGGTGTCCGTTCTTAGTAGACACCGCCTATTTCGTGGTATGTCCTTGGTCCCTGGTAAGTGCGCATAAACTTTCGATGTTCGGTATTCAGATCCAAAGTAAATCACCAGCTCCTAATGAATGCTACAGTCAACCTAAACATTTGATGTCTAGGTTTTGACTCGCCGTCCATTATTACAAGTATCACATTCTTAAGGACTCTCATAAATACAGAGTTTCCACTCCGCATTGGGACTCTTATCTAGTGGGGGCTCTTTTCATGACGTGCTCACGTTTTGTCCTCTAGGGTTCAGCGCCACTGGTCAGTGGTCGATGCTTGTACAAGAGAGTACTGAAGGCGAAGAGAGATGGCTCCGCATTGGAATGTCCACGGCCAAACACTAGTACGCCTAGTCGGGCGGTCCGATCAAGACCCTCACGCTAAGATGTCCTATTGGGTGATTACTGTCGTCGAACGCGCCATCGAGGCGACCACTTGTTCAAAACCTCTCGTGTACACATCTGTTGACGTTTAGTGTAACAACGGAACCACGACGTCCATATCGCGAATGGTCGAGAACCGACCACCCAGGTACATAAAGGGGTCGGCCCCCGACTTAGGGACGGCGAGTAAATCTCATAGGGCTTTACCAGTAGGAGGCGTCGCGTTAGCACTCTCTGGAATTCCGCCCGGAACAGGCGTGTCTGGCAAGATTTGCAGAATCCATATGAGCATTGTCCTATGAGACTGTTCGGCACGCGGTTTTATGCGGCAACAACTGGACACACACAACCGTTCTATCGTCATCAACTAGAACACGTTCGCCGTAAGTGCCAGCACCACTGGGCTCGCCAGTGGTAGGAGGCAATAACTCCATGAATCCTTACCATAAGGAATCGATGCGTGAAAGAACAACCAGACCATTGGATAAGATCACCTACACACGCCATGGATCGACATGCTGCACATTATTCACGTTGAAGCAACGCAGGGTATACGTCGAGGTAGGAGTTAGGATAACTCTAGTTCGATCATCCGCTCGAACTGAGGAAAACTACCAGTCACTTTAGGTTAGCTCGCTGAATAATGCGGAGTTTCTATCGCGCCCTGGGCCTGCGCGAGTAAAGTGTATTCACGCCGTGTAACGTCTACAAGTGTGCTTGCACAGCCCCCTAAGTGGGTCGTTGCCCGTACGCTCGATAGAGCTTGAACTGATGCTACATTCTAATATTCGCGGAGCCAACCCAACAGCATTGCTACAAAGCGTCGAATCGACTGAGGTTGCAGCAAGAAAATCCACTTGTCAGTCTATGGATCTTAGCTAGGTCCTTGAGATTTAGAGCCTTACGTATGTTTAGCACTCCTGCTTTAACGTATATGTCTCGTTCTACGAACAAATCAGAGACTAAATTAGTGAGCGGACCTCTTCTTAGATATGGTTCGATCGTCGAGCGCGATTACGCTCTTTACACGGCTTCTTGCTCGGCCTGGATCAGGTGACTTTAGCCGCCACCCCCTGGGCTGTGGATGTAGTCGCCAAGCAAAGTCCCTGGGTACTCTGGAGTCGTTATGAGCAATGCTCTCAGAGCGAGAAAGGTATGGATAGGCCTATCCTTTAGATGAGGACCTCATTTGTCTTAACGAAAGGCTGTAGCAGCCGCGGTGAGCATGATACGGTCCCCAAGCCCTCTCTCCATTCTACCTTCTGCGTTGGCCCGATCCACCTTACGTTTTTCGCCTTTCCGGGATTTTAGAAGCTAGCATCCTCACCGGTGTTATACGCGATAACAACCCTAATATGGCCTGATCACGGTCATTCAGTCACTACCATTCCGTATGTTACCTGTGCATCGGGCGTCAAAATAACTGAAATAGGATTAATTAGGGGGAGTTAGTGCATAAAAGAAACGGTTAATAACCACTTCAACCCTGAGAGCCGGTGATCTTGCTCGGCAACAACGTGAGCATTACGAAGCGATACCATAAAGGGCCCCCCCCGATAGGAGACGATCTCTCTATTGGTAACCTGTTTCATTTTTCCCCCAGCAACATATGTTCATAAGTCACTATAGCGGCATCTAGATTCTCACATCTTGTTCCCGAACGACATATATTGGTTCGAACCTACGCCGTTGATGATTTCCAACACCTTTTGGACACGAAAAGTCCATCTTGTGGCCATTTTACTCGACGCTAATGGGCCGCTAGGCATTATAAGCACTAGATGGTGAGTTGTCCGGCACGAACCAAACAACGAAGCGCACTCCGGTAGGCGCTAGCGCAACGCGTCGCCAGCCACGGGGGATCCGATGGATTATCTCATATTCGAGAATGTCCAAGTGTGTTCACGGCTCCGGTGTGCATTTCTAACTTGTATGCTCGTATATCGTGTCAGCAATCGATCCGGCTCTCCAAACAATCACGGAGGTTACACCAGTCTTTACTGCATCCCAGTATCCGTCTATGTAGCAGTACGAGGACTCGTGTAACTCTCCGCCCGCCGATGTACGACTGGCCCGATTCGCGTGCCCAATCGATTAAAGGTCATATGGTCTTCACCTCGTGTGGCGAGAAGTGGTATCGTTAAATTGTCTTTGTTAATAGGACAGGTTAACACACTCGCGATGGTGGACCCGCGTAGGAGGAATCGGGCGGGACCGCGAAGTCCAGATGTTTTCTACAGAAGACGCGAGAACCCAGCCGCGGCAGGGGCAGCTGATGTAGTCTTTACCTACCGCTACCATCAACACGTCTCCTTGGAATAATTCATAGTACGGTGTGAGAGACTGCGCCTTAGAGCTATGTGTATTAAAAGAGGCTCCACCTTTCAAGGGGTTTCTTCTGGAAAACGGAGAGATAAATCTCAATGTGCTTTAAATGACGAAGTAAAGAGTAACGCTCCGCACCACTGTTCAGTATGCAGCTCAGTCAGGGTGAACAAATTCTCCCAGCTGCCCCGGGCTACCAACCCGGGTATTGATTGCTGGTCGTACCGTTTACTACACGGAGGGACAACTCTCACAAGGGAGGTTGCGAGTTAGCCCGCGTCCTTATACGACAACCCTGGTTGACGTTTGACCGATAAGGACATGGTGGTACGTTGATGCGTCATCAAAGCTCTGTCACTCGAACATTCCCTTGCTATAACGATTTATCGTAGCCATCTCAATGTGGGATAACTCAGACGGTCGGGAGAGCGGCGTGCGTGTCTGCCCGTACTCGGTTCAGTTGTCGTGATTACCGGGGGTTCAACTCTTAACGCCAATTCAGCAAGATCGTGCGGGGCCGAAGAACAGTTTATACTGGGAAAGGCTTTTGCGGACCAACTACTGAACCTAGTACGAGAGTTTTAGAAACGCAAG'"
      ]
     },
     "execution_count": 29,
     "metadata": {},
     "output_type": "execute_result"
    }
   ],
   "source": [
    "s25(FASTAfile)"
   ]
  },
  {
   "cell_type": "markdown",
   "metadata": {},
   "source": [
    "### Problem 26 - Perfect Matchings and RNA Secondary Structures"
   ]
  },
  {
   "cell_type": "markdown",
   "metadata": {},
   "source": [
    "A matching in a graph $G$ is a collection of edges of $G$ for which no node belongs to more than one edge in the collection. If $G$ contains an even number of nodes (say $2n$), then a matching on $G$ is perfect if it contains $n$ edges, which is clearly the maximum possible.\n",
    "\n",
    "First, let $K_{n}$ denote the complete graph on $2n$ labeled nodes, in which every node is connected to every other node with an edge, and let $p_{n}$ denote the total number of perfect matchings in $K_{n}$. For a given node $x$, there are $2n−1$ ways to join $x$ to the other nodes in the graph, after which point we must form a perfect matching on the remaining $2n−2$ nodes. This reasoning provides us with the recurrence relation $p_{n}=(2n−1)⋅p_{n}−1$; using the fact that $p_{1}$ is $1$, this recurrence relation implies the closed equation $p_{n}=(2n−1)(2n−3)(2n−5)⋯(3)(1)$.\n",
    "\n",
    "Given an RNA string $s=s_{1}…s_{n}$, a bonding graph for $s$ is formed as follows. First, assign each symbol of $s$ to a node, and arrange these nodes in order around a circle, connecting them with edges called adjacency edges. Second, form all possible edges ${A, U}$ and ${C, G}$, called basepair edges; we will represent basepair edges with dashed edges.\n",
    "\n",
    "A matching contained in the basepair edges will represent one possibility for base pairing interactions in $s$. For such a matching to exist, $s$ must have the same number of occurrences of 'A' as 'U' and the same number of occurrences of 'C' as 'G'.\n",
    "\n",
    "Given: An RNA string $s$ of length at most 80 bp having the same number of occurrences of 'A' as 'U' and the same number of occurrences of 'C' as 'G'.\n",
    "\n",
    "Return: The total possible number of perfect matchings of basepair edges in the bonding graph of $s$.\n",
    "Sample Dataset\n",
    "\n",
    "$\\gt$Rosalind_23\n",
    "\n",
    "AGCUAGUCAU\n",
    "\n",
    "Sample Output\n",
    "\n",
    "12\n"
   ]
  },
  {
   "cell_type": "markdown",
   "metadata": {},
   "source": [
    "### Solution 26"
   ]
  },
  {
   "cell_type": "code",
   "execution_count": 119,
   "metadata": {},
   "outputs": [],
   "source": [
    "s = 'AGCUAGUCAU'"
   ]
  },
  {
   "cell_type": "code",
   "execution_count": 146,
   "metadata": {},
   "outputs": [],
   "source": [
    "def s26(string):\n",
    "    print(factorial(string.count('U')) * factorial(string.count('G')))"
   ]
  },
  {
   "cell_type": "code",
   "execution_count": 149,
   "metadata": {},
   "outputs": [
    {
     "name": "stdout",
     "output_type": "stream",
     "text": [
      "12\n"
     ]
    }
   ],
   "source": [
    "s26(s)"
   ]
  },
  {
   "cell_type": "code",
   "execution_count": 147,
   "metadata": {},
   "outputs": [],
   "source": [
    "FASTAfile = parse_sequences(DATA_PATH + 'rosalind_pmch.txt')"
   ]
  },
  {
   "cell_type": "code",
   "execution_count": 148,
   "metadata": {},
   "outputs": [
    {
     "name": "stdout",
     "output_type": "stream",
     "text": [
      "2277243837099849063333888000000\n"
     ]
    }
   ],
   "source": [
    "s26(list(FASTAfile.values())[0])"
   ]
  },
  {
   "cell_type": "markdown",
   "metadata": {},
   "source": [
    "### Problem 27 - Partial Permutations"
   ]
  },
  {
   "cell_type": "markdown",
   "metadata": {},
   "source": [
    "A partial permutation is an ordering of only $k$ objects taken from a collection containing $n$ objects (i.e., $k\\leq n$). For example, one partial permutation of three of the first eight positive integers is given by $(5,7,2)$.\n",
    "\n",
    "The statistic $P(n,k)$ counts the total number of partial permutations of $k$ objects that can be formed from a collection of $n$ objects. Note that $P(n,n)$ is just the number of permutations of $n$ objects, which we found to be equal to $n!=n(n−1)(n−2)⋯(3)(2)$ in “Enumerating Gene Orders”.\n",
    "\n",
    "Given: Positive integers $n$\n",
    "and $k$ such that $100\\geq n\\gt0$ and $10\\geq k\\gt0.$\n",
    "\n",
    "Return: The total number of partial permutations $P(n,k)$, modulo $1,000,000$.\n",
    "\n",
    "Sample Dataset\n",
    "\n",
    "21 7\n",
    "\n",
    "Sample Output\n",
    "\n",
    "51200\n"
   ]
  },
  {
   "cell_type": "markdown",
   "metadata": {},
   "source": [
    "### Solution 27"
   ]
  },
  {
   "cell_type": "code",
   "execution_count": 160,
   "metadata": {},
   "outputs": [],
   "source": [
    "n = 21\n",
    "k = 7"
   ]
  },
  {
   "cell_type": "code",
   "execution_count": 156,
   "metadata": {},
   "outputs": [],
   "source": [
    "def s27(n, k):\n",
    "    print(round((factorial(n)/factorial(n-k))%1000000))"
   ]
  },
  {
   "cell_type": "code",
   "execution_count": 161,
   "metadata": {},
   "outputs": [
    {
     "name": "stdout",
     "output_type": "stream",
     "text": [
      "51200\n"
     ]
    }
   ],
   "source": [
    "s27(n, k)"
   ]
  },
  {
   "cell_type": "code",
   "execution_count": 162,
   "metadata": {},
   "outputs": [],
   "source": [
    "n, k = parse_numbers(DATA_PATH + 'rosalind_pper.txt')"
   ]
  },
  {
   "cell_type": "code",
   "execution_count": 163,
   "metadata": {},
   "outputs": [
    {
     "name": "stdout",
     "output_type": "stream",
     "text": [
      "926400\n"
     ]
    }
   ],
   "source": [
    "s27(n, k)"
   ]
  },
  {
   "cell_type": "markdown",
   "metadata": {},
   "source": [
    "### Problem 28 - Introduction to Random Strings"
   ]
  },
  {
   "cell_type": "markdown",
   "metadata": {},
   "source": [
    "An array is a structure containing an ordered collection of objects (numbers, strings, other arrays, etc.). We let $A[k]$ denote the $k$-th value in array A. You may like to think of an array as simply a matrix having only one row.\n",
    "\n",
    "A random string is constructed so that the probability of choosing each subsequent symbol is based on a fixed underlying symbol frequency. GC-content offers us natural symbol frequencies for constructing random DNA strings. If the GC-content is $x$, then we set the symbol frequencies of C and G equal to $\\frac{x}{2}$ and the symbol frequencies of A and T equal to $\\frac{1-x}{2}$. For example, if the GC-content is 40%, then as we construct the string, the next symbol is 'G'/'C' with probability 0.2, and the next symbol is 'A'/'T' with probability 0.3.\n",
    "\n",
    "In practice, many probabilities wind up being very small. In order to work with small probabilities, we may plug them into a function that \"blows them up\" for the sake of comparison. Specifically, the common logarithm of $x$ (defined for $x\\gt0$ and denoted $log_{10}(x)$) is the exponent to which we must raise 10 to obtain $x$.\n",
    "\n",
    "In the graph of the common logarithm function $y=log_{10}(x)$, we can see that the logarithm of $x$-values between 0 and 1 always winds up mapping to $y$-values between $−\\infty$ and 0: $x$-values near 0 have logarithms close to $−\\infty$, and $x$-values close to 1 have logarithms close to 0. Thus, we will select the common logarithm as our function to \"blow up\" small probability values for comparison.\n",
    "\n",
    "Given: A DNA string $s$ of length at most 100 bp and an array $A$ containing at most 20 numbers between 0 and 1.\n",
    "\n",
    "Return: An array $B$ having the same length as $A$ in which $B_{[k]}$ represents the common logarithm of the probability that a random string constructed with the GC-content found in $A_{[k]}$ will match $s$ exactly.\n",
    "\n",
    "Sample Dataset\n",
    "\n",
    "ACGATACAA\n",
    "\n",
    "0.129 0.287 0.423 0.476 0.641 0.742 0.783\n",
    "\n",
    "Sample Output\n",
    "\n",
    "-5.737 -5.217 -5.263 -5.360 -5.958 -6.628 -7.009\n"
   ]
  },
  {
   "cell_type": "markdown",
   "metadata": {},
   "source": [
    "### Solution 28"
   ]
  },
  {
   "cell_type": "markdown",
   "metadata": {},
   "source": [
    "$P = (\\frac{1-x}{2})^{AT} * (\\frac{x}{2})^{GC}$"
   ]
  },
  {
   "cell_type": "code",
   "execution_count": 52,
   "metadata": {},
   "outputs": [],
   "source": [
    "import math"
   ]
  },
  {
   "cell_type": "code",
   "execution_count": 72,
   "metadata": {},
   "outputs": [],
   "source": [
    "s = 'ACGATACAA'\n",
    "A = [0.129, 0.287, 0.423, 0.476, 0.641, 0.742, 0.783]"
   ]
  },
  {
   "cell_type": "code",
   "execution_count": 73,
   "metadata": {},
   "outputs": [],
   "source": [
    "def s28(s, A):\n",
    "    B = []\n",
    "    for i in A:\n",
    "        total=1.0\n",
    "        for base in s:\n",
    "            if base in [\"G\", \"C\"]:\n",
    "                total*= i*0.5\n",
    "            else:\n",
    "                total*= (1-i)*0.5\n",
    "        B.append(total)\n",
    "    print(\" \".join(str(round(math.log10(i),3)) for i in B))"
   ]
  },
  {
   "cell_type": "code",
   "execution_count": 74,
   "metadata": {},
   "outputs": [
    {
     "name": "stdout",
     "output_type": "stream",
     "text": [
      "-5.737 -5.217 -5.263 -5.36 -5.958 -6.628 -7.009\n"
     ]
    }
   ],
   "source": [
    "s28(s, A)"
   ]
  },
  {
   "cell_type": "code",
   "execution_count": 68,
   "metadata": {},
   "outputs": [],
   "source": [
    "lines = open(DATA_PATH + 'rosalind_prob.txt').readlines()"
   ]
  },
  {
   "cell_type": "code",
   "execution_count": 69,
   "metadata": {},
   "outputs": [],
   "source": [
    "s = lines[0][:-1]"
   ]
  },
  {
   "cell_type": "code",
   "execution_count": 70,
   "metadata": {},
   "outputs": [],
   "source": [
    "A = list(map(float, lines[1][:-1].split()))"
   ]
  },
  {
   "cell_type": "code",
   "execution_count": 71,
   "metadata": {},
   "outputs": [
    {
     "name": "stdout",
     "output_type": "stream",
     "text": [
      "-83.188 -69.06 -66.378 -60.631 -57.46 -56.541 -55.066 -53.862 -53.028 -52.91 -52.926 -53.74 -54.118 -56.344 -57.995 -60.432 -64.272 -76.037\n"
     ]
    }
   ],
   "source": [
    "s28(s, A)"
   ]
  },
  {
   "cell_type": "markdown",
   "metadata": {},
   "source": [
    "### Problem 29 - Enumerating Oriented Gene Orderings "
   ]
  },
  {
   "cell_type": "markdown",
   "metadata": {},
   "source": [
    "A signed permutation of length $n$ is some ordering of the positive integers ${1,2,…,n}$ in which each integer is then provided with either a positive or negative sign (for the sake of simplicity, we omit the positive sign). For example, $\\pi=(5,−3,−2,1,4)$ is a signed permutation of length 5.\n",
    "\n",
    "Given: A positive integer $n\\leq6$.\n",
    "\n",
    "Return: The total number of signed permutations of length $n$, followed by a list of all such permutations (you may list the signed permutations in any order).\n",
    "\n",
    "Sample Dataset\n",
    "\n",
    "2\n",
    "\n",
    "Sample Output\n",
    "\n",
    "8\n",
    "-1 -2\n",
    "\n",
    "-1 2\n",
    "\n",
    "1 -2\n",
    "\n",
    "1 2\n",
    "\n",
    "-2 -1\n",
    "\n",
    "-2 1\n",
    "\n",
    "2 -1\n",
    "\n",
    "2 1"
   ]
  },
  {
   "cell_type": "markdown",
   "metadata": {},
   "source": [
    "### Solution 29"
   ]
  },
  {
   "cell_type": "code",
   "execution_count": 198,
   "metadata": {},
   "outputs": [],
   "source": [
    "from itertools import product\n",
    "from itertools import permutations"
   ]
  },
  {
   "cell_type": "code",
   "execution_count": 196,
   "metadata": {},
   "outputs": [],
   "source": [
    "def s29(n):\n",
    "    def merge(product):\n",
    "        numbers, signs = product\n",
    "        res = [int(signs[i] + str(number)) for i, number in enumerate(numbers)]\n",
    "        return res\n",
    "    \n",
    "    numbers = list(permutations(range(1, n + 1)))\n",
    "    signs = list(product('-+', repeat=n))\n",
    "\n",
    "    signed_permutations = list(product(numbers, signs))\n",
    "    signed_permutations = list(map(merge, signed_permutations))\n",
    "    \n",
    "    print(len(signed_permutations))\n",
    "    for i in range(len(signed_permutations)):                                          \n",
    "        print(*signed_permutations[i], sep=' ')      "
   ]
  },
  {
   "cell_type": "code",
   "execution_count": 203,
   "metadata": {},
   "outputs": [],
   "source": [
    "s29(parse_numbers(DATA_PATH + 'rosalind_sign.txt')[0])"
   ]
  },
  {
   "cell_type": "markdown",
   "metadata": {},
   "source": [
    "### Problem 30 - Finding a Spliced Motif "
   ]
  },
  {
   "cell_type": "markdown",
   "metadata": {},
   "source": [
    "A subsequence of a string is a collection of symbols contained in order (though not necessarily contiguously) in the string (e.g., ACG is a subsequence of TATGCTAAGATC). The indices of a subsequence are the positions in the string at which the symbols of the subsequence appear; thus, the indices of ACG in TATGCTAAGATC can be represented by $(2, 5, 9)$.\n",
    "\n",
    "As a substring can have multiple locations, a subsequence can have multiple collections of indices, and the same index can be reused in more than one appearance of the subsequence; for example, ACG is a subsequence of AACCGGTT in 8 different ways.\n",
    "\n",
    "Given: Two DNA strings $s$ and $t$ (each of length at most 1 kbp) in FASTA format.\n",
    "\n",
    "Return: One collection of indices of $s$\n",
    "in which the symbols of t appear as a subsequence of $s$. If multiple solutions exist, you may return any one.\n",
    "\n",
    "Sample Dataset\n",
    "\n",
    "$\\gt$ Rosalind_14\n",
    "\n",
    "ACGTACGTGACG\n",
    "\n",
    "$\\gt$ Rosalind_18\n",
    "\n",
    "GTA\n",
    "\n",
    "\n",
    "Sample Output\n",
    "\n",
    "3 8 10\n"
   ]
  },
  {
   "cell_type": "markdown",
   "metadata": {},
   "source": [
    "### Solution 30"
   ]
  },
  {
   "cell_type": "code",
   "execution_count": 34,
   "metadata": {},
   "outputs": [],
   "source": [
    "def s30(s, t):\n",
    "    positions = []\n",
    "\n",
    "    i = j = 0\n",
    "    while i < len(s) and j < len(t):\n",
    "        if s[i] == t[j]:\n",
    "            positions.append(i + 1)\n",
    "            j += 1\n",
    "        i += 1\n",
    "\n",
    "    print(*positions, sep=' ')  "
   ]
  },
  {
   "cell_type": "code",
   "execution_count": 33,
   "metadata": {},
   "outputs": [],
   "source": [
    "FASTA_file = parse_sequences(DATA_PATH + 'rosalind_sseq.txt')"
   ]
  },
  {
   "cell_type": "code",
   "execution_count": 35,
   "metadata": {},
   "outputs": [
    {
     "name": "stdout",
     "output_type": "stream",
     "text": [
      "2 7 13 14 17 22 25 30 31 32 33 34 35 38 42 43 50 55 56 60 68 69 72 73 78 79 80 86 93 95 104 106 108 114 117 118 120 121 122 124 129 131 132 134 144 145 154 157 159 160 161 162 166 168 170 177 178 180 181 183 186 191 192 199 202 207 211 212 214 218 229 230 241 243 247 252\n"
     ]
    }
   ],
   "source": [
    "s30(list(FASTA_file.values())[0], list(FASTA_file.values())[1])"
   ]
  }
 ],
 "metadata": {
  "kernelspec": {
   "display_name": "Python 3",
   "language": "python",
   "name": "python3"
  },
  "language_info": {
   "codemirror_mode": {
    "name": "ipython",
    "version": 3
   },
   "file_extension": ".py",
   "mimetype": "text/x-python",
   "name": "python",
   "nbconvert_exporter": "python",
   "pygments_lexer": "ipython3",
   "version": "3.7.3"
  }
 },
 "nbformat": 4,
 "nbformat_minor": 2
}
