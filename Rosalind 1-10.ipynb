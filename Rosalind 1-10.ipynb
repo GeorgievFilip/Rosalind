{
 "cells": [
  {
   "cell_type": "code",
   "execution_count": 2,
   "metadata": {},
   "outputs": [],
   "source": [
    "DATA_PATH = \"Data/\""
   ]
  },
  {
   "cell_type": "code",
   "execution_count": 3,
   "metadata": {},
   "outputs": [],
   "source": [
    "# FASTA file reader\n",
    "from collections import OrderedDict\n",
    "from typing import Dict\n",
    "\n",
    "NAME_SYMBOL = '>'\n",
    "\n",
    "\n",
    "def parse_sequences(filename: str,\n",
    "                    ordered: bool=False) -> Dict[str, str]:\n",
    "    \"\"\"\n",
    "    Parses a text file of genome sequences into a dictionary.\n",
    "    Arguments:\n",
    "      filename: str - The name of the file containing the genome info.\n",
    "      ordered: bool - Set this to True if you want the result to be ordered.\n",
    "    \"\"\"\n",
    "    result = OrderedDict() if ordered else {}\n",
    "\n",
    "    last_name = None\n",
    "    with open(filename) as sequences:\n",
    "        for line in sequences:\n",
    "            if line.startswith(NAME_SYMBOL):\n",
    "                last_name = line[1:-1]\n",
    "                result[last_name] = []\n",
    "            else:\n",
    "                result[last_name].append(line[:-1])\n",
    "\n",
    "    for name in result:\n",
    "        result[name] = ''.join(result[name])\n",
    "\n",
    "    return result"
   ]
  },
  {
   "cell_type": "code",
   "execution_count": 1,
   "metadata": {},
   "outputs": [],
   "source": [
    "def parse_numbers(path):\n",
    "    \"\"\"\n",
    "    Parses a text file of numbers into a list\n",
    "    \"\"\"\n",
    "    with open(path, 'r') as handle:\n",
    "        for line in handle:\n",
    "            if not line.strip():\n",
    "                continue  # This skips blank lines\n",
    "\n",
    "            values = [*map(int, line.split())]\n",
    "            return values"
   ]
  },
  {
   "cell_type": "markdown",
   "metadata": {},
   "source": [
    "### Problem 1  - Counting DNA Nucleotides"
   ]
  },
  {
   "cell_type": "markdown",
   "metadata": {},
   "source": [
    "A string is simply an ordered collection of symbols selected from some alphabet and formed into a word; the length of a string is the number of symbols that it contains.\n",
    "\n",
    "An example of a length 21 DNA string (whose alphabet contains the symbols 'A', 'C', 'G', and 'T') is \"ATGCTTCAGAAAGGTCTTACG.\"\n",
    "\n",
    "Given: A DNA string $s$ of length at most 1000 nt.\n",
    "\n",
    "Return: Four integers (separated by spaces) counting the respective number of times that the symbols 'A', 'C', 'G', and 'T' occur in $s$.\n",
    "\n",
    "Sample Dataset:\n",
    "\n",
    "AGCTTTTCATTCTGACTGCAACGGGCAATATGTCTCTGTGTGGATTAAAAAAAGAGTGTCTGATAGCAGC\n",
    "\n",
    "Sample Output:\n",
    "\n",
    "20 12 17 21"
   ]
  },
  {
   "cell_type": "markdown",
   "metadata": {},
   "source": [
    "### Solution 1"
   ]
  },
  {
   "cell_type": "code",
   "execution_count": 3,
   "metadata": {},
   "outputs": [],
   "source": [
    "bases = ['A', 'C', 'G', 'T']"
   ]
  },
  {
   "cell_type": "code",
   "execution_count": 4,
   "metadata": {},
   "outputs": [
    {
     "name": "stdout",
     "output_type": "stream",
     "text": [
      "20 12 17 21 "
     ]
    }
   ],
   "source": [
    "string = \"AGCTTTTCATTCTGACTGCAACGGGCAATATGTCTCTGTGTGGATTAAAAAAAGAGTGTCTGATAGCAGC\"\n",
    "for i in bases:\n",
    "    print(string. count(i), end=\" \")"
   ]
  },
  {
   "cell_type": "code",
   "execution_count": 5,
   "metadata": {},
   "outputs": [
    {
     "name": "stdout",
     "output_type": "stream",
     "text": [
      "201 224 225 210 "
     ]
    }
   ],
   "source": [
    "file = open(DATA_PATH + 'rosalind_dna.txt', 'r')\n",
    "dna = file.read()\n",
    "for i in bases:\n",
    "    print(dna. count(i), end=\" \")"
   ]
  },
  {
   "cell_type": "markdown",
   "metadata": {},
   "source": [
    "### Problem 2 - Transcribing DNA into RNA"
   ]
  },
  {
   "cell_type": "markdown",
   "metadata": {},
   "source": [
    "An RNA string is a string formed from the alphabet containing 'A', 'C', 'G', and 'U'.\n",
    "\n",
    "Given a DNA string $t$ corresponding to a coding strand, its transcribed RNA string $u$ is formed by replacing all occurrences of 'T' in $t$ with 'U' in $u$.\n",
    "\n",
    "Given: A DNA string $t$ having length at most 1000 nt.\n",
    "\n",
    "Return: The transcribed RNA string of $t$.\n",
    "\n",
    "Sample Dataset:\n",
    "\n",
    "GATGGAACTTGACTACGTAAATT\n",
    "\n",
    "Sample Output:\n",
    "\n",
    "GAUGGAACUUGACUACGUAAAUU\n"
   ]
  },
  {
   "cell_type": "markdown",
   "metadata": {},
   "source": [
    "### Solution 2:"
   ]
  },
  {
   "cell_type": "code",
   "execution_count": 6,
   "metadata": {},
   "outputs": [
    {
     "data": {
      "text/plain": [
       "'GAUGGAACUUGACUACGUAAAUU'"
      ]
     },
     "execution_count": 6,
     "metadata": {},
     "output_type": "execute_result"
    }
   ],
   "source": [
    "string = \"GATGGAACTTGACTACGTAAATT\"\n",
    "RNAstring = string.replace('T', 'U')\n",
    "RNAstring"
   ]
  },
  {
   "cell_type": "code",
   "execution_count": 7,
   "metadata": {},
   "outputs": [
    {
     "data": {
      "text/plain": [
       "'AAGAAAGGACUCAAUACGCCCAUUUUUUACCAACGUGCAACUGACUGACCGUUUCACAGGUAUGCCUCUUUGAUGCACUGUCGGAAGAGAGGGACUACGAUGUGCUGGAAUGAUAUCACGUAUACCGUGCUGGUUUGACCAAGUCUUCCGUGUAGUACCUGAUGCGGUUCCCGGUAGUUAUUUGCUCUUCCGGUAAAGGCUUUUAGCAUUGUCCGUUUUUUUACUUCCCCGGAACGCGGCGCCCGAGAGAUGAAAAGUUUUGUCGACCCUCGGUCAGCAACGACGACCAAUCCAAGCUCUCUGAACUUAGCUUACUUAUAGAAACCCGUUGGACCCCGUCGUGCCAUUCACUACAGAUGCAACUUCUAAACCAGCGCACCUAGCAGAUAUGUUUACGCCUAUUGGAUAAUCGUUGAAUAUCUUGUUGGUGUCCGUCUAUGGUCCAAUGUGCGGUGGACCCCAUAACACUCUUACUUUUCAGCUUCUGAUUAAGCGGCGCGUCACGUAAUCGUUCAGACGGUUGCUCUUGUUUGCCCUAAGACCACCUAUUACUGCCCGCUCUGCUGAAACGCGAUAAGUCAUUCGAGACGUGUCUAUUCCAUGCGACAGAUAAUGCAUCGUCCUAUACCACAAGACGGGCCUAGCAGGGACGAAUGCUCGUAUACUCGACCACCAACCGUUUGUCGGGCGCACAAUCGUAAUGCUCUGCGGCCCUAUGCUGUGCAGAUCCCACUUGAUCUGUUGACAUGCAUCUCGAGGGAGAUUGAACCUUCCACCCUCCUAACCACCAGAAACCGCAAUCGGGUACACUCCGCCUCUGGACAGUAAAGGCGUUUCGCGUCCAGUCUGGCAAGACGGGUGCAGGUUGCUGGCUGCGAGUUCGUGUAAGAGCGUGGCUAUGCGCUCCGUGUACUGACAACUCCUACUGAAGCUUGGACUUACAGCGCUAUCGUAUAUGCCUGCUCCACGUGAUAUGGGUGUGAAUAAGGUUUAGGAGCGA\\n'"
      ]
     },
     "execution_count": 7,
     "metadata": {},
     "output_type": "execute_result"
    }
   ],
   "source": [
    "file = open(DATA_PATH + 'rosalind_rna.txt', 'r')\n",
    "dna = file.read()\n",
    "rna = dna.replace('T', 'U')\n",
    "rna"
   ]
  },
  {
   "cell_type": "markdown",
   "metadata": {},
   "source": [
    "### Problem 3 - Complementing a Strand of DNA"
   ]
  },
  {
   "cell_type": "markdown",
   "metadata": {},
   "source": [
    "In DNA strings, symbols 'A' and 'T' are complements of each other, as are 'C' and 'G'.\n",
    "\n",
    "The reverse complement of a DNA string $s$\n",
    "is the string $s^{c}$ formed by reversing the symbols of $s$, then taking the complement of each symbol (e.g., the reverse complement of \"GTCA\" is \"TGAC\").\n",
    "\n",
    "Given:\n",
    "A DNA string $s$ of length at most 1000 bp.\n",
    "\n",
    "Return: The reverse complement $s^{c}$\n",
    "of s.\n",
    "\n",
    "Sample Dataset:\n",
    "\n",
    "AAAACCCGGT\n",
    "\n",
    "Sample Output:\n",
    "\n",
    "ACCGGGTTTT"
   ]
  },
  {
   "cell_type": "markdown",
   "metadata": {},
   "source": [
    "### Solution 3:"
   ]
  },
  {
   "cell_type": "code",
   "execution_count": 8,
   "metadata": {},
   "outputs": [],
   "source": [
    "tr = str.maketrans(dict(zip('ACGT', 'TGCA')))\n",
    "def replace(string):\n",
    "    return string.translate(tr)[::-1]"
   ]
  },
  {
   "cell_type": "code",
   "execution_count": 9,
   "metadata": {},
   "outputs": [
    {
     "data": {
      "text/plain": [
       "'ACCGGGTTTT'"
      ]
     },
     "execution_count": 9,
     "metadata": {},
     "output_type": "execute_result"
    }
   ],
   "source": [
    "string = \"AAAACCCGGT\"\n",
    "replace(string)"
   ]
  },
  {
   "cell_type": "code",
   "execution_count": 10,
   "metadata": {},
   "outputs": [
    {
     "data": {
      "text/plain": [
       "'\\nTTTGTGTCTTACAACTGCTAGAGTCCTGATGGGTTTCGCAGGGTTGCGTTGTCGGTCGCGGCGGAATCAACGCGATACAGGATAGCGATTTCATCGAGTGAGCTCTTCAATTTGTAATAGGCCGACGTGAAACGACGAGATGAGCCTAGGAGCTACTATTTGTCCCTCAGTTAGTTTCCCTTCGCATAGCTTCGAGATAACGCGACCCTAAGGGTTGCTGCTGAGCCTGTTGAGGATTGCTGCCCCGTACACTCTGAGCCGTTAACTGATTCATCTGGGAGCGGGCCAAAGACGTACTCTCCAGACGATTTCTACATACAGACGAGGGGTTATCATAGTGTATGCCCCGTGAAGGGTTGCCGGTGAGCAACACTGCCCCCTGAACTTCGAACCATTTAATCGCCTAACCTAACGAACACGTTCCCGTAGAAGGGACCGGCGGAGGAGCGAGTCTCCGTTTTGTCGAAACAGTCGGGTAACAAACGTGCTGTATCCAGCGTCCTGACTTCTCTATAATCCAGCGCGGGCAAATCGCTTCTCAATGTCTTAGGTATGTTCACCAACAGTGCCTCGATATTGTCAGGCCGACGGATCTCAATAAGGTCATTGGACGAAGACCACGACATTATGCACACAGAAAACTTTTCCGGCGCCACGGCACTCCACCACTGCTGGGACGGTATCTAAGGGTTAACCGGGCTTAGGGATCAGCGTCACACGTTCAGTAGTGTTGAAGCTTAGATTTTGATTGGTGAAAGCCTCTTATCAACGCGTGCCATCCCCTACTGCAACCGTACCCTTTCATAAACGTTCCTACTAACTCTAGCGTAAGGGAAAGAAAAGAGAAGTAGGTCAATCTAGGATGTCAGCCCACTTAGGTGCATGAGCCGCGGTTACGTGAAGAAGTCAAAAGCGCGTACGACTTGTATCCTATGTTAAAACCGACGTGAAAATTCCATTATTTGGTGGTATGAAGTTCCAAGAGAAGC'"
      ]
     },
     "execution_count": 10,
     "metadata": {},
     "output_type": "execute_result"
    }
   ],
   "source": [
    "file = open(DATA_PATH + 'rosalind_revc.txt', 'r')\n",
    "dna = file.read()\n",
    "compdna = replace(dna)\n",
    "compdna"
   ]
  },
  {
   "cell_type": "markdown",
   "metadata": {},
   "source": [
    "### Problem 4 - Computing GC Content\n",
    "\n",
    "The GC-content of a DNA string is given by the percentage of symbols in the string that are 'C' or 'G'. For example, the GC-content of \"AGCTATAG\" is 37.5%. Note that the reverse complement of any DNA string has the same GC-content.\n",
    "\n",
    "DNA strings must be labeled when they are consolidated into a database. A commonly used method of string labeling is called FASTA format. In this format, the string is introduced by a line that begins with '>', followed by some labeling information. Subsequent lines contain the string itself; the first line to begin with '>' indicates the label of the next string.\n",
    "\n",
    "In Rosalind's implementation, a string in FASTA format will be labeled by the ID \"Rosalind_xxxx\", where \"xxxx\" denotes a four-digit code between 0000 and 9999.\n",
    "\n",
    "Given: At most 10 DNA strings in FASTA format (of length at most 1 kbp each).\n",
    "\n",
    "Return: The ID of the string having the highest GC-content, followed by the GC-content of that string. Rosalind allows for a default error of 0.001 in (0 mm)˜ all decimal answers unless otherwise stated; please see the note on absolute error below.\n",
    "\n",
    "Sample Dataset:\n",
    "\n",
    "$\\gt$Rosalind_6404\n",
    "\n",
    "CCTGCGGAAGATCGGCACTAGAATAGCCAGAACCGTTTCTCTGAGGCTTCCGGCCTTCCC\n",
    "TCCCACTAATAATTCTGAGG\n",
    "\n",
    "$\\gt$Rosalind_5959\n",
    "\n",
    "CCATCGGTAGCGCATCCTTAGTCCAATTAAGTCCCTATCCAGGCGCTCCGCCGAAGGTCT\n",
    "ATATCCATTTGTCAGCAGACACGC\n",
    "\n",
    "$\\gt$Rosalind_0808\n",
    "\n",
    "CCACCCTCGTGGTATGGCTAGGCATTCAGGAACCGGAGAACGCTTCAGACCAGCCCGGAC\n",
    "TGGGAACCTGCGGGCAGTAGGTGGAAT\n",
    "\n",
    "Sample outcome:\n",
    "\n",
    "Rosalind_0808\n",
    "\n",
    "60.919540\n"
   ]
  },
  {
   "cell_type": "markdown",
   "metadata": {},
   "source": [
    "### Solution 4:"
   ]
  },
  {
   "cell_type": "code",
   "execution_count": 11,
   "metadata": {},
   "outputs": [],
   "source": [
    "dic = {'Rosalind_6404':'CCTGCGGAAGATCGGCACTAGAATAGCCAGAACCGTTTCTCTGAGGCTTCCGGCCTTCCCTCCCACTAATAATTCTGAGG',\n",
    "      'Rosalind_5959':'CCATCGGTAGCGCATCCTTAGTCCAATTAAGTCCCTATCCAGGCGCTCCGCCGAAGGTCTATATCCATTTGTCAGCAGACACGC',\n",
    "      'Rosalind_0808':'CCACCCTCGTGGTATGGCTAGGCATTCAGGAACCGGAGAACGCTTCAGACCAGCCCGGACTGGGAACCTGCGGGCAGTAGGTGGAAT'\n",
    "}"
   ]
  },
  {
   "cell_type": "code",
   "execution_count": 12,
   "metadata": {},
   "outputs": [],
   "source": [
    "def s4(d):\n",
    "    for key, value in d.items():\n",
    "        d[key] = (value.count('C') + value.count('G'))*100/len(value)\n",
    "    for i in max(d.items(), key = lambda x: x[1]):\n",
    "        print(i)"
   ]
  },
  {
   "cell_type": "code",
   "execution_count": 13,
   "metadata": {},
   "outputs": [
    {
     "name": "stdout",
     "output_type": "stream",
     "text": [
      "Rosalind_0808\n",
      "60.91954022988506\n"
     ]
    }
   ],
   "source": [
    "s4(dic)"
   ]
  },
  {
   "cell_type": "code",
   "execution_count": 14,
   "metadata": {},
   "outputs": [],
   "source": [
    "FASTAfile = parse_sequences(DATA_PATH + 'rosalind_gc.txt')"
   ]
  },
  {
   "cell_type": "code",
   "execution_count": 15,
   "metadata": {},
   "outputs": [
    {
     "name": "stdout",
     "output_type": "stream",
     "text": [
      "Rosalind_0007\n",
      "51.81711606096131\n"
     ]
    }
   ],
   "source": [
    "s4(FASTAfile)"
   ]
  },
  {
   "cell_type": "markdown",
   "metadata": {},
   "source": [
    "### Problem 5 - Counting Point Mutations\n",
    "\n",
    "Given two strings $s$ and $t$ of equal length, the Hamming distance between $s$ and $t$, denoted $d_{H}(s,t)$, is the number of corresponding symbols that differ in $s$ and $t$. See Figure 2.\n",
    "\n",
    "Given: Two DNA strings $s$ and $t$ of equal length (not exceeding 1 kbp).\n",
    "\n",
    "Return: The Hamming distance $d_{H}(s,t)$.\n",
    "\n",
    "Sample Dataset:\n",
    "\n",
    "GAGCCTACTAACGGGAT\n",
    "\n",
    "CATCGTAATGACGGCCT\n",
    "\n",
    "Sample Outcome:\n",
    "\n",
    "7\n"
   ]
  },
  {
   "cell_type": "markdown",
   "metadata": {},
   "source": [
    "### Solution 5:"
   ]
  },
  {
   "cell_type": "code",
   "execution_count": 16,
   "metadata": {},
   "outputs": [],
   "source": [
    "string1 = 'GAGCCTACTAACGGGAT'\n",
    "string2 = 'CATCGTAATGACGGCCT'"
   ]
  },
  {
   "cell_type": "code",
   "execution_count": 17,
   "metadata": {},
   "outputs": [],
   "source": [
    "def s5(s1, s2):\n",
    "    counter = 0\n",
    "    differences = 0\n",
    "    for i in s1:\n",
    "        if i != s2[counter]:\n",
    "            differences += 1\n",
    "        counter += 1\n",
    "    return differences"
   ]
  },
  {
   "cell_type": "code",
   "execution_count": 18,
   "metadata": {},
   "outputs": [
    {
     "data": {
      "text/plain": [
       "7"
      ]
     },
     "execution_count": 18,
     "metadata": {},
     "output_type": "execute_result"
    }
   ],
   "source": [
    "s5(string1, string2)"
   ]
  },
  {
   "cell_type": "code",
   "execution_count": 19,
   "metadata": {},
   "outputs": [
    {
     "data": {
      "text/plain": [
       "485"
      ]
     },
     "execution_count": 19,
     "metadata": {},
     "output_type": "execute_result"
    }
   ],
   "source": [
    "lines = open(DATA_PATH + 'rosalind_hamm.txt').readlines()\n",
    "s5(lines[0], lines[1])"
   ]
  },
  {
   "cell_type": "markdown",
   "metadata": {},
   "source": [
    "### Problem 6 - Rabbits and Recurrence Relations\n",
    "\n",
    "A sequence is an ordered collection of objects (usually numbers), which are allowed to repeat. Sequences can be finite or infinite. Two examples are the finite sequence $(\\pi,\\sqrt2,0,\\pi)$ and the infinite sequence of odd numbers $(1,3,5,7,9,…)$. We use the notation an to represent the n-th term of a sequence.\n",
    "\n",
    "A recurrence relation is a way of defining the terms of a sequence with respect to the values of previous terms. In the case of Fibonacci's rabbits from the introduction, any given month will contain the rabbits that were alive the previous month, plus any new offspring. A key observation is that the number of offspring in any month is equal to the number of rabbits that were alive two months prior. As a result, if $F_{n}$\n",
    "represents the number of rabbit pairs alive after the $n$-th month, then we obtain the Fibonacci sequence having terms Fn that are defined by the recurrence relation $F_{n}=F_{n-1}+F_{n-2}$ (with $F_{1}=F_{2}=1$ to initiate the sequence). Although the sequence bears Fibonacci's name, it was known to Indian mathematicians over two millennia ago.\n",
    "\n",
    "When finding the $n$-th term of a sequence defined by a recurrence relation, we can simply use the recurrence relation to generate terms for progressively larger values of $n$. This problem introduces us to the computational technique of dynamic programming, which successively builds up solutions by using the answers to smaller cases.\n",
    "\n",
    "Given: Positive integers $n≤40$ and $k≤5$.\n",
    "\n",
    "Return: The total number of rabbit pairs that will be present after n\n",
    "months, if we begin with 1 pair and in each generation, every pair of reproduction-age rabbits produces a litter of k rabbit pairs (instead of only 1 pair).\n",
    "\n",
    "Sample Dataset:\n",
    "\n",
    "5 3\n",
    "\n",
    "Sample Output:\n",
    "\n",
    "19\n"
   ]
  },
  {
   "cell_type": "markdown",
   "metadata": {},
   "source": [
    "### Solution 6"
   ]
  },
  {
   "cell_type": "code",
   "execution_count": 8,
   "metadata": {},
   "outputs": [],
   "source": [
    "def s6(n, k):\n",
    "    # Following the equation: \n",
    "    rabbits = []\n",
    "    rabbits.insert(0, 1)\n",
    "    rabbits.insert(1, 1)\n",
    "    for i in range(2, n):\n",
    "        rabbits.insert(i, (rabbits[i-1]+ rabbits[i-2]* k))\n",
    "    return rabbits[n-1]"
   ]
  },
  {
   "cell_type": "code",
   "execution_count": 21,
   "metadata": {},
   "outputs": [
    {
     "data": {
      "text/plain": [
       "19"
      ]
     },
     "execution_count": 21,
     "metadata": {},
     "output_type": "execute_result"
    }
   ],
   "source": [
    "s6(5, 3)"
   ]
  },
  {
   "cell_type": "code",
   "execution_count": 39,
   "metadata": {},
   "outputs": [
    {
     "data": {
      "text/plain": [
       "(32, 2)"
      ]
     },
     "execution_count": 39,
     "metadata": {},
     "output_type": "execute_result"
    }
   ],
   "source": [
    "n, k = parse_numbers(DATA_PATH + 'rosalind_fib.txt')\n",
    "n, k"
   ]
  },
  {
   "cell_type": "code",
   "execution_count": 38,
   "metadata": {},
   "outputs": [
    {
     "data": {
      "text/plain": [
       "1431655765"
      ]
     },
     "execution_count": 38,
     "metadata": {},
     "output_type": "execute_result"
    }
   ],
   "source": [
    "s6(n, k)"
   ]
  },
  {
   "cell_type": "markdown",
   "metadata": {},
   "source": [
    "### Problem 7 - Mendel's First Law\n",
    "\n",
    "Probability is the mathematical study of randomly occurring phenomena. We will model such a phenomenon with a random variable, which is simply a variable that can take a number of different distinct outcomes depending on the result of an underlying random process.\n",
    "\n",
    "For example, say that we have a bag containing 3 red balls and 2 blue balls. If we let $X$\n",
    "represent the random variable corresponding to the color of a drawn ball, then the probability of each of the two outcomes is given by $Pr(X=red)= \\frac{3}{5}$ and $Pr(X=blue)= \\frac{2}{5}$.\n",
    "\n",
    "Random variables can be combined to yield new random variables. Returning to the ball example, let $Y$\n",
    "model the color of a second ball drawn from the bag (without replacing the first ball). The probability of Y being red depends on whether the first ball was red or blue. To represent all outcomes of $X$ and $Y$, we therefore use a probability tree diagram. This branching diagram represents all possible individual probabilities for $X$ and $Y$, with outcomes at the endpoints (\"leaves\") of the tree. The probability of any outcome is given by the product of probabilities along the path from the beginning of the tree; see Figure 2 for an illustrative example.\n",
    "\n",
    "An event is simply a collection of outcomes. Because outcomes are distinct, the probability of an event can be written as the sum of the probabilities of its constituent outcomes. For our colored ball example, let $A$\n",
    "be the event \"$Y$ is blue.\" $Pr(A)$ is equal to the sum of the probabilities of two different outcomes: $Pr(X=blue$ and $Y=blue)$ + $Pr(X=red$ and $Y=blue)$, or $\\frac{3}{10}+\\frac{1}{10}=\\frac{2}{5}$.\n",
    "\n",
    "Given: Three positive integers $k$, $m$, and $n$, representing a population containing k+m+n organisms: k individuals are homozygous dominant for a factor, m are heterozygous, and n are homozygous recessive.\n",
    "\n",
    "Return: The probability that two randomly selected mating organisms will produce an individual possessing a dominant allele (and thus displaying the dominant phenotype). Assume that any two organisms can mate.\n",
    "\n",
    "Sample Dataset:\n",
    "\n",
    "2 2 2\n",
    "\n",
    "Sample Output:\n",
    "\n",
    "0.78333\n"
   ]
  },
  {
   "cell_type": "markdown",
   "metadata": {},
   "source": [
    "### Solution 7"
   ]
  },
  {
   "cell_type": "code",
   "execution_count": 41,
   "metadata": {},
   "outputs": [],
   "source": [
    "from itertools import product\n",
    "\n",
    "def s7(a, b, c):\n",
    "    population = (['AA'] * a) + (['Aa'] * b) + (['aa'] * c)\n",
    "\n",
    "    all_children = []\n",
    "    for parent1 in population:\n",
    "        # remove selected parent from population.\n",
    "        chosen = population[:]\n",
    "        chosen.remove(parent1)\n",
    "        for parent2 in chosen:\n",
    "            # get all possible children from 2 parents. Punnet square\n",
    "            children = product(parent1, parent2)\n",
    "            all_children.extend([''.join(child) for child in children])\n",
    "    dominants = filter(lambda c: 'A' in c, all_children)\n",
    "    return float(len(list(dominants))) / len(all_children)"
   ]
  },
  {
   "cell_type": "code",
   "execution_count": 42,
   "metadata": {},
   "outputs": [
    {
     "data": {
      "text/plain": [
       "0.7833333333333333"
      ]
     },
     "execution_count": 42,
     "metadata": {},
     "output_type": "execute_result"
    }
   ],
   "source": [
    "k = 2\n",
    "m = 2\n",
    "n = 2\n",
    "\n",
    "s7(k,m,n)"
   ]
  },
  {
   "cell_type": "code",
   "execution_count": 45,
   "metadata": {},
   "outputs": [
    {
     "data": {
      "text/plain": [
       "(28, 16, 17)"
      ]
     },
     "execution_count": 45,
     "metadata": {},
     "output_type": "execute_result"
    }
   ],
   "source": [
    "k, m, n = parse_numbers(DATA_PATH + 'rosalind_iprb.txt')\n",
    "k, m, n"
   ]
  },
  {
   "cell_type": "code",
   "execution_count": 46,
   "metadata": {},
   "outputs": [
    {
     "data": {
      "text/plain": [
       "0.8349726775956284"
      ]
     },
     "execution_count": 46,
     "metadata": {},
     "output_type": "execute_result"
    }
   ],
   "source": [
    "s7(k,m,n)"
   ]
  },
  {
   "cell_type": "markdown",
   "metadata": {},
   "source": [
    "### Problem 8 - Translating RNA into Protein\n",
    "\n",
    "The 20 commonly occurring amino acids are abbreviated by using 20 letters from the English alphabet (all letters except for B, J, O, U, X, and Z). Protein strings are constructed from these 20 symbols. Henceforth, the term genetic string will incorporate protein strings along with DNA strings and RNA strings.\n",
    "\n",
    "The RNA codon table dictates the details regarding the encoding of specific codons into the amino acid alphabet.\n",
    "\n",
    "Given: An RNA string s corresponding to a strand of mRNA (of length at most 10 kbp).\n",
    "\n",
    "Return: The protein string encoded by s.\n",
    "\n",
    "Sample Dataset:\n",
    "\n",
    "AUGGCCAUGGCGCCCAGAACUGAGAUCAAUAGUACCCGUAUUAACGGGUGA\n",
    "\n",
    "Sample Output:\n",
    "\n",
    "MAMAPRTEINSTRING\n"
   ]
  },
  {
   "cell_type": "markdown",
   "metadata": {},
   "source": [
    "### Solution 8:"
   ]
  },
  {
   "cell_type": "code",
   "execution_count": 28,
   "metadata": {},
   "outputs": [],
   "source": [
    "# RNA codon table\n",
    "rna_codon = {\"UUU\" : \"F\", \"CUU\" : \"L\", \"AUU\" : \"I\", \"GUU\" : \"V\",\n",
    "           \"UUC\" : \"F\", \"CUC\" : \"L\", \"AUC\" : \"I\", \"GUC\" : \"V\",\n",
    "           \"UUA\" : \"L\", \"CUA\" : \"L\", \"AUA\" : \"I\", \"GUA\" : \"V\",\n",
    "           \"UUG\" : \"L\", \"CUG\" : \"L\", \"AUG\" : \"M\", \"GUG\" : \"V\",\n",
    "           \"UCU\" : \"S\", \"CCU\" : \"P\", \"ACU\" : \"T\", \"GCU\" : \"A\",\n",
    "           \"UCC\" : \"S\", \"CCC\" : \"P\", \"ACC\" : \"T\", \"GCC\" : \"A\",\n",
    "           \"UCA\" : \"S\", \"CCA\" : \"P\", \"ACA\" : \"T\", \"GCA\" : \"A\",\n",
    "           \"UCG\" : \"S\", \"CCG\" : \"P\", \"ACG\" : \"T\", \"GCG\" : \"A\",\n",
    "           \"UAU\" : \"Y\", \"CAU\" : \"H\", \"AAU\" : \"N\", \"GAU\" : \"D\",\n",
    "           \"UAC\" : \"Y\", \"CAC\" : \"H\", \"AAC\" : \"N\", \"GAC\" : \"D\",\n",
    "           \"UAA\" : \"STOP\", \"CAA\" : \"Q\", \"AAA\" : \"K\", \"GAA\" : \"E\",\n",
    "           \"UAG\" : \"STOP\", \"CAG\" : \"Q\", \"AAG\" : \"K\", \"GAG\" : \"E\",\n",
    "           \"UGU\" : \"C\", \"CGU\" : \"R\", \"AGU\" : \"S\", \"GGU\" : \"G\",\n",
    "           \"UGC\" : \"C\", \"CGC\" : \"R\", \"AGC\" : \"S\", \"GGC\" : \"G\",\n",
    "           \"UGA\" : \"STOP\", \"CGA\" : \"R\", \"AGA\" : \"R\", \"GGA\" : \"G\",\n",
    "           \"UGG\" : \"W\", \"CGG\" : \"R\", \"AGG\" : \"R\", \"GGG\" : \"G\" \n",
    "           }"
   ]
  },
  {
   "cell_type": "code",
   "execution_count": 29,
   "metadata": {},
   "outputs": [],
   "source": [
    "rna_string =  'AUGGCCAUGGCGCCCAGAACUGAGAUCAAUAGUACCCGUAUUAACGGGUGA'"
   ]
  },
  {
   "cell_type": "code",
   "execution_count": 30,
   "metadata": {},
   "outputs": [],
   "source": [
    "def s8(rna):\n",
    "    protein_string = \"\"\n",
    "    for i in range(0, len(rna)-(3+len(rna)%3), 3):\n",
    "        if rna_codon[rna[i:i+3]] == \"STOP\" :\n",
    "            break\n",
    "        protein_string += rna_codon[rna[i:i+3]]\n",
    "    return protein_string"
   ]
  },
  {
   "cell_type": "code",
   "execution_count": 31,
   "metadata": {},
   "outputs": [
    {
     "data": {
      "text/plain": [
       "'MAMAPRTEINSTRING'"
      ]
     },
     "execution_count": 31,
     "metadata": {},
     "output_type": "execute_result"
    }
   ],
   "source": [
    "s8(rna_string)"
   ]
  },
  {
   "cell_type": "code",
   "execution_count": 32,
   "metadata": {},
   "outputs": [
    {
     "data": {
      "text/plain": [
       "'MLTAYHERAYKFVENIELKEQMCHAETPSILVVKRATVTCTVCVCVNSEPIAPTLTSPDKGYSFSADFVVKSILTPIIIDTNSDVLDRPFSSEQASRQAVERTLRCFQGAFLYGRISHGLSVHTRGFARTLYGYMCALLNTYLQVSRLTNGKFTTSFVRVVATLSHFIIFSVRSALQNTTRTQGVANWTFSKSSAVTVTSCYTTTSGHAFVPRGYIKGGVASCPSVEKQFSGRRRILPTYRRRGSQGNIHSPPRRRCLSTIVTMTVKDPDHLGSHGAPRHLGEGPIAFIIKVAPCTHRSPRWQRRQSVQWTDIFRLKRRTQGTTAAQIRHSNMLDLHRMQSGTQNPTVSAGSNRWTKTFRLGGTRHIVIHGPDGASKLIKGEGRLMILGSPPAGRERKPRPIIMRSQCPGHTVLYRRSIAHHHGRLRLSIYRTRTAPKLARRCWWRRLTELMRQRKPASSVRDLPHHKHCLCICLQVCVQFVSGLASRNSLSSLSPCQRLCKRTIWLCILRKSFITYSKRPPEPIFVFCLDSSIFRQADSSSTYCHATFSRCELMVDDKRILNIRVATAACKLMSYVRRHLPPPPLFRRGLTVRFDGASTPASLLLNRTDASGWARPTWIDGGVFSELPTVPHSGTSSAAGWLSNDQALRRGIGELSGDTHNSAKRRGTTCSDGDTRVTDQSTAVATHHVNWQHLTPYFGCPPLTCRGRLVGQRNKLHPASYTDASSNALGCWYDQCAVPIVASVRCASMVLESFAVMIDHGVTQDRTGETEDATLDLSISQGEGYRPRNSYVPIRGRNVSTLHIETPSYQEVPQPPRIHYKRAIYIQRNSIIARIGLTHRSIGSRRYSPKWMNLLTNTEGDTLCTEIKSPWRSSHSVVLVYPDATVCCTNFEGFFADSGHNPCVLSNAGLSVATPKPQISLQVNAHTDTSVVIPLTTGAPLEGAPNPVGVHTEDDQSFSLNYPVCEHSNGTWNLPSSLLRGVHQSQCSLSISCAFNALGPPLFLNANTGGCRSHLFNAYTSVYKVDSGLVHDNHKLKFAAVRQVSLLCAHVQRVQWTRENTRRLLVPTFLNDSRSICLRHIQPQTHKLIRRGTGCFIRDALAIASSELRESTNSNKLLTPRSRYTVKGRVLLQIIENERCQDPTRHHRLALVYRRVWANIFTVIRTSMTFAEGMHFVGYVSVRMPPQTVCFLSPFGIFPTREYQHDGVAVRRKGRPFRLHLLRPSFHSQKTVPAQTHEFPHVASSIGNVHNIYSESCPFRSRGGVLSVLNVFEEHTPITNCRVAVKLIKPLLWLLTLFMLCGWSDNGLPGLSGDIGGIDRFTHHPEGSLAFSTASAPLLSAEVDNNLSRRGRGSDEAYGYQPAVIMTALVRLRNIHLGVELRRTGRFNRTKCFSQRRGLEHVVYWNAPTSARWTLKPKVRYYASIRVDHLPPHCPRCVIRIPGCQLGVIALQLRHTPASSASHEAHQCTGRSIGVFYATAPCECDPCCDYSAPTRHTGRSSIPEGRPEHNKRTNRHVGAFHALYEGDVVLISNGSADNAPPIVNGRLPIIHGLRLRTAALSASFIFKGLFSAQCSSADARCGHRRQMSSQTDRKQQGRPKLSGDDASLCNSVAPTFNHRRRRTPCRADTDISLHQVVEIARARGGHANHLYPYACAQNPIVSSAPKHEHVTIAALNPYMYQGKTEHRPGLHRKCKIIVVGHVARSVLSQQTRRLLQGVSKPINDKRKVGFTRTDLFQTDLRFIISANTSRHVRVGSVCGATTRAGTRGCSPTRWGRISTYPNQTICQAFCARLAIRNTPLTYLNTTLALFIHHSCGTNCQSEQSRFGCEILRARCAPQARKYSRPCLQKRCHDTTALLPLVPNVCCSPPLNAPIPVWIGTRRTQERGVVLITLHKTDTLTWYRALRIYPQLNSLCAQSELCVLWRVVAGCSDHSMGQLIGPEPPFINAPLSLYLPHDSVNGGCSPFAPHRLRLFWPFASTRIRTPTIERYCLADPDHHYIMREGIFNNGLSLCSCRHKEGKGAPYLGLISGSEGKRTGRSAVEPFSGATSVAHYLGTFTTVFLSDDLTTFCREDRRGPFSVGWPGESQWVACTCKHLAVDIPALVHISAGSAKSKVGRVVCRHEPWTGMTLGGPKNRCHASPHFIPGQGNLVRDPTELSQSLCPCRLIALISSFIGRVHGDLYFHALTWQGVHDQERYDTLPHIGAKPDQLIKKISLYACGFARIDTQLRFVIRDLVRTTRAALLESCIRYSSRTSHSRTRESLRLSSLAIEIALLALSRPRLRWLWLVWTPVSSLNHIATEGIGNPEDICFPPWGCEDLHQGQRPAVARETAQQASLARSSLGQLTNGLRLTGAAINHLPYPTHAPEPVPTESRDEELRSRMICFNLRTTRVRLRSHSPCLLTFVSPPRTILSYAVRTVYPSNSNHGRLHPSRARAPYGNEINAITMRRANLFRLKNHDDSPKACRRVTLKYGRAKSLFDRAIHLQVPKFGLTFACTVIVRAKQREREGWAIRRGSSSAVPARRNDYGPTLFGAIFGHTHCVPSSFAISTANSAPVILYARQTTFCAGWSCIAYGAGPIPGTDHPLSIFRAGETKHRLWGSGASRRWELGYLKPSGYVIRRSHENTTLPYIALFKAGFCGHSRRTAKATLDRKKGGNVRPMIIASWVEVLRRHFRFCHTEKRDISSIVSGSPTRLLGKVNLLDCEASLTRSCTHSGTQTRILCAMVEQRLMQDSLNEPTPGPRPDGSRVEFNLITHVSGTPVRFAIPANNKPGNDVCPARNMTVSACGALCGLLSATTVLIRVNYASLLCSHLKHRLLEPAVPLPQEIACSFNSLHARSAYNEYPPREVFSTTSGVTPITENLDAPQFPPVSFRRSFSRGLDTTRTSKWFTTGFPAASEGRILMTQRKFSDADVRSGSPRMHLHSCLLIDASQKRGQDLIYSWSVRADVWPRRGERLLVHRLYEVQSVPGTLNDNDSCGIPATRIPCQRRGLRKQRVVGDSTCGGLILKKLKGRSVAVHNHPTQFNAWSCTGPGSRQLPLVRNLVSLLEQAREGCLTHPLLGGLNLVCQSIKARYKEPFCGAPAQVVSILCEVRWFDLSYVHNAGNCSPDCRLSWPKEARSRVPSHYLRQQGTEGDAKTNMHSFCVCFPGAHSIVSSMHSNSSYTSSGAHGSRLEDVSGNSHARVQWSLILLGTVTIKLYPSKSKFSSRPILHSDRTCEERGDRSNIKQM'"
      ]
     },
     "execution_count": 32,
     "metadata": {},
     "output_type": "execute_result"
    }
   ],
   "source": [
    "file = open(DATA_PATH + 'rosalind_prot.txt', 'r')\n",
    "rna = file.read()\n",
    "s8(rna)"
   ]
  },
  {
   "cell_type": "markdown",
   "metadata": {},
   "source": [
    "### Problem 9 - Finding a Motif in DNA\n",
    "\n",
    "Given two strings $s$ and $t$, $t$ is a substring of $s$ if t is contained as a contiguous collection of symbols in $s$ (as a result, $t$ must be no longer than $s$).\n",
    "\n",
    "The position of a symbol in a string is the total number of symbols found to its left, including itself (e.g., the positions of all occurrences of 'U' in \"AUGCUUCAGAAAGGUCUUACG\" are 2, 5, 6, 15, 17, and 18). The symbol at position i\n",
    "of $s$ is denoted by $s$.\n",
    "\n",
    "A substring of s can be represented as $s$, where $j$ and $k$ represent the starting and ending positions of the substring in $s$; for example, if $s$ = \"AUGCUUCAGAAAGGUCUUACG\", then $s$ = \"UGCU\".\n",
    "\n",
    "The location of a substring $s$ is its beginning position j; note that $t$ will have multiple locations in $s$ if it occurs more than once as a substring of $s$ (see the Sample below).\n",
    "\n",
    "Given: Two DNA strings $s$ and $t$(each of length at most 1 kbp).\n",
    "\n",
    "Return: All locations of $t$ as a substring of $s$.\n",
    "\n",
    "Sample Dataset:\n",
    "\n",
    "GATATATGCATATACTT\n",
    "\n",
    "ATAT\n",
    "\n",
    "Sample Output:\n",
    "\n",
    "2 4 10\n"
   ]
  },
  {
   "cell_type": "markdown",
   "metadata": {},
   "source": [
    "### Solution 9"
   ]
  },
  {
   "cell_type": "code",
   "execution_count": 33,
   "metadata": {},
   "outputs": [],
   "source": [
    "def s9(a, b):\n",
    "    result = []\n",
    "    for i in range(0, len(a) - len(b) + 1):\n",
    "        if a[i:i+len(b)] == b:\n",
    "            result.append(i+1)        \n",
    "    for i in result:\n",
    "        print(i, end=\" \")"
   ]
  },
  {
   "cell_type": "code",
   "execution_count": 34,
   "metadata": {},
   "outputs": [],
   "source": [
    "s1= 'GATATATGCATATACTT'\n",
    "\n",
    "s2= 'ATAT'"
   ]
  },
  {
   "cell_type": "code",
   "execution_count": 35,
   "metadata": {},
   "outputs": [
    {
     "name": "stdout",
     "output_type": "stream",
     "text": [
      "2 4 10 "
     ]
    }
   ],
   "source": [
    "s9(s1, s2)"
   ]
  },
  {
   "cell_type": "code",
   "execution_count": 36,
   "metadata": {},
   "outputs": [],
   "source": [
    "sequences = open(DATA_PATH + 'rosalind_subs.txt', 'r')\n",
    "seq1 = sequences.readline().rstrip()\n",
    "seq2 = sequences.readline().rstrip()"
   ]
  },
  {
   "cell_type": "code",
   "execution_count": 37,
   "metadata": {},
   "outputs": [
    {
     "name": "stdout",
     "output_type": "stream",
     "text": [
      "1 8 35 64 71 108 142 215 231 238 245 326 371 378 385 402 533 540 589 619 659 687 704 720 736 765 780 "
     ]
    }
   ],
   "source": [
    "s9(seq1, seq2)"
   ]
  },
  {
   "cell_type": "markdown",
   "metadata": {},
   "source": [
    "### Problem 10 - Consensus and Profile\n",
    "\n",
    "A matrix is a rectangular table of values divided into rows and columns. An $m×n$ matrix has m rows and n columns. Given a matrix $A$, we write Ai,j to indicate the value found at the intersection of row $i$ and column $j$.\n",
    "\n",
    "Say that we have a collection of DNA strings, all having the same length $n$. Their profile matrix is a $4×n$ matrix $P$ in which $P_{1,j}$ represents the number of times that 'A' occurs in the jth position of one of the strings, $P_{2,j}$ represents the number of times that C occurs in the $j$th position, and so on (see below).\n",
    "\n",
    "A consensus string $c$ is a string of length $n$ formed from our collection by taking the most common symbol at each position; the $j$-th symbol of $c$ therefore corresponds to the symbol having the maximum value in the $j$-th column of the profile matrix. Of course, there may be more than one most common symbol, leading to multiple possible consensus strings.\n",
    "\n",
    "Given: A collection of at most 10 DNA strings of equal length (at most 1 kbp) in FASTA format.\n",
    "\n",
    "Return: A consensus string and profile matrix for the collection. (If several possible consensus strings exist, then you may return any one of them.)\n",
    "\n",
    "Sample Dataset:\n",
    "\n",
    "$\\gt$Rosalind_1\n",
    "\n",
    "ATCCAGCT\n",
    "\n",
    "$\\gt$Rosalind_2\n",
    "\n",
    "GGGCAACT\n",
    "\n",
    "$\\gt$Rosalind_3\n",
    "\n",
    "ATGGATCT\n",
    "\n",
    "$\\gt$Rosalind_4\n",
    "\n",
    "AAGCAACC\n",
    "\n",
    "$\\gt$Rosalind_5\n",
    "\n",
    "TTGGAACT\n",
    "\n",
    "$\\gt$Rosalind_6\n",
    "\n",
    "ATGCCATT\n",
    "\n",
    "$\\gt$Rosalind_7\n",
    "\n",
    "ATGGCACT\n",
    "\n",
    "Sample Output:\n",
    "\n",
    "ATGCAACT\n",
    "\n",
    "A: 5 1 0 0 5 5 0 0\n",
    "\n",
    "C: 0 0 1 4 2 0 6 1\n",
    "\n",
    "G: 1 1 6 3 0 1 0 0\n",
    "\n",
    "T: 1 5 0 0 0 1 1 6"
   ]
  },
  {
   "cell_type": "markdown",
   "metadata": {},
   "source": [
    "### Solution - 10:"
   ]
  },
  {
   "cell_type": "code",
   "execution_count": 38,
   "metadata": {},
   "outputs": [],
   "source": [
    "dic = {'Rosalind_1':'ATCCAGCT',\n",
    "       'Rosalind_2':'GGGCAACT',\n",
    "       'Rosalind_3':'ATGGATCT',\n",
    "       'Rosalind_4':'AAGCAACC',\n",
    "       'Rosalind_5':'TTGGAACT',\n",
    "       'Rosalind_6':'ATGCCATT',\n",
    "       'Rosalind_7':'ATGGCACT'}"
   ]
  },
  {
   "cell_type": "code",
   "execution_count": 39,
   "metadata": {},
   "outputs": [],
   "source": [
    "def s10(dictionary):\n",
    "    #bases = ['A', 'C', 'G', 'T']\n",
    "    strings = list(dictionary.values())\n",
    "    strings2 = []\n",
    "    for i in range(len(strings[0])):\n",
    "        for a in range(len(strings)):\n",
    "            strings2.append(strings[a][i])\n",
    "    strings3 = []\n",
    "    strings3 = [strings2[x:x+len(strings)] for x in range(0, len(strings2), len(strings))]\n",
    "    strings4 = []\n",
    "    for a in bases:\n",
    "        for i in (strings3):\n",
    "            strings4.append(i.count(a))\n",
    "    chunks = [strings4[(i*len(strings4))//4:((i+1)*len(strings4))//4] for i in range(4)]\n",
    "    for i in range(len(strings3)):\n",
    "        print(sorted([ss for ss in set(strings3[i]) if len(ss)>0 and ss.istitle()], \n",
    "                   key=strings3[i].count, \n",
    "                   reverse=True)[0], end = '')\n",
    "    print(\"\")\n",
    "    for a, b in zip(bases, range(4)):\n",
    "        print(a + \": \" + \" \".join([str(x) for x in chunks[b]]))"
   ]
  },
  {
   "cell_type": "code",
   "execution_count": 40,
   "metadata": {},
   "outputs": [
    {
     "name": "stdout",
     "output_type": "stream",
     "text": [
      "ATGCAACT\n",
      "A: 5 1 0 0 5 5 0 0\n",
      "C: 0 0 1 4 2 0 6 1\n",
      "G: 1 1 6 3 0 1 0 0\n",
      "T: 1 5 0 0 0 1 1 6\n"
     ]
    }
   ],
   "source": [
    "s10(dic)"
   ]
  },
  {
   "cell_type": "code",
   "execution_count": 41,
   "metadata": {},
   "outputs": [],
   "source": [
    "FASTA_file = parse_sequences(DATA_PATH + 'rosalind_cons.txt')"
   ]
  },
  {
   "cell_type": "code",
   "execution_count": 42,
   "metadata": {},
   "outputs": [
    {
     "name": "stdout",
     "output_type": "stream",
     "text": [
      "TGACATAAACGAGCGCGATTATAACCTATTCTTAGCTGCTATGATATCCCTATGCAATTCCTATTACTACGCTAAAGATTTGGTAATTTTCTTCGGGAATTTGACAATGATTGTGTATCGCCGGTGTTTGAGAATTCGTTATGGCCGGTTGGTAACCCTGATTGTCGTATATGTTGCGCTCTAGTATGCGGGTACGAACGTCACATCAATGCTTCTTGAAAACATGCTGTTTCTTAACTCACCCCGCTATGTTTAATTACCTAGTTAGATAAGTAGATAGAAGGGGCGAGCCTATGCGGCATTCTAACTTTAGTTGCGATTTTCTTCTGGGAGTAGTTGTACTTGTAGGATGCACAACATTGCACAGACCTGGATATACATTAATGTGCTTCTTATACTGTGGCTGCCTTTTAGCGGGGGAGCGGGATCGTTCTCATAGACACTACATGAGCCTGGGGGATATGTCTTCGCGTATTCCGTATGTGTATGGGCGTGGACAATATCTTCGTACCGTTTAAAACGAGTCCCTAACGCTGTTATCCTGAAGGATGGTGTATATCAAGACGGAACTCTGATTGGAGCAATGATGGCAATTTGTTGGGAGAGAAACTTGAATGGTCGCTATGTTGTGTTTGTGTGATAGGTGGCGTCTTATGAGCTGAGAGCTCGCCGGTCATGGATGGTGCAACAGATTGTTAGTGTCGTGATTGGATAATAGTCGACCTCTATCCCTTGTCCGAAGAAATTAGTTCGGGTTTCACGCACTTCAACAGTTAGCCCGTTTAGAGTTGGATTTCGACACATGTCTCATTCTTCTGTTAGTAACTTCTTATAAGCTTTTTATCATCTTATCGGAGGCGGTGAAAGGCCTTACGATCATCAAGGTTTAGGGTCCTTTAGCTG\n",
      "A: 3 2 5 3 4 3 4 4 4 2 2 4 1 3 3 2 3 4 3 1 3 2 4 4 1 0 1 3 2 1 2 3 1 5 0 1 1 3 2 2 4 2 2 4 3 4 1 1 1 1 3 4 2 3 2 5 4 3 0 3 1 4 4 2 2 5 3 1 4 1 3 1 2 4 4 4 2 5 3 2 2 1 0 1 4 4 1 2 2 3 2 3 4 2 2 1 2 6 5 1 3 1 2 4 3 4 3 2 4 4 1 1 4 0 1 0 3 3 1 1 2 0 3 3 1 1 4 3 3 3 4 2 4 4 3 3 2 3 3 2 6 3 3 3 0 2 1 3 3 1 3 3 2 4 6 0 2 2 2 2 4 3 3 2 2 0 3 1 4 1 4 4 1 2 1 2 1 2 2 1 2 4 5 2 3 4 1 4 0 1 0 2 4 4 3 3 5 3 3 2 3 2 3 2 6 1 0 6 4 1 2 2 2 2 3 2 2 1 5 5 5 4 2 4 1 3 2 4 3 3 3 1 4 2 1 3 3 3 1 3 4 0 0 0 2 2 2 3 4 1 0 3 4 3 4 5 1 0 4 1 1 3 4 3 1 2 3 0 6 3 4 4 2 3 4 2 4 2 4 3 4 3 1 3 3 2 1 3 6 2 1 2 1 5 3 3 0 3 3 0 3 2 3 2 2 4 4 2 3 2 2 4 2 2 0 2 3 3 5 0 2 1 3 2 3 2 3 2 1 2 3 3 2 2 3 2 2 3 4 1 4 2 2 1 3 0 5 1 2 4 3 1 0 3 1 3 4 1 5 2 2 1 2 5 2 4 1 5 1 0 1 1 1 3 2 4 1 4 1 6 1 3 4 5 3 2 1 0 1 3 4 2 2 1 5 2 3 2 2 1 2 3 1 2 2 3 2 3 2 3 3 3 5 0 1 2 0 2 3 2 3 1 3 2 3 1 4 2 0 3 2 2 2 1 3 4 1 4 2 6 2 4 3 3 4 1 4 0 2 5 1 3 2 2 1 2 3 2 3 5 3 5 1 2 3 2 3 0 2 0 2 1 2 5 2 1 0 1 3 3 3 3 2 3 2 2 5 1 2 2 2 0 1 2 1 3 4 2 5 5 2 4 2 1 2 2 0 3 3 5 1 1 0 2 1 3 4 6 5 4 3 2 3 3 2 3 3 1 1 4 4 1 2 1 2 2 2 2 4 1 2 1 2 2 4 4 3 0 5 2 2 4 3 1 3 5 3 4 1 2 4 4 1 5 2 2 1 5 4 3 3 1 2 3 4 3 2 2 1 3 2 1 4 5 2 3 4 2 1 2 2 4 4 2 2 4 3 2 2 1 1 2 5 1 4 1 4 3 4 2 1 2 2 6 5 1 3 2 1 2 1 2 2 3 0 3 2 2 1 1 2 3 3 0 2 1 3 3 3 4 0 3 2 3 3 2 3 1 1 3 3 3 4 4 3 0 4 2 3 2 0 5 2 4 1 0 2 2 1 2 2 4 1 2 1 4 4 1 3 3 1 3 3 3 1 1 5 3 3 3 4 4 3 1 1 2 3 5 1 3 2 1 1 3 2 1 4 2 2 1 2 4 1 4 4 2 4 3 2 2 2 3 3 3 3 3 2 6 2 3 1 3 1 3 2 2 3 2 4 5 4 1 3 4 4 2 4 5 2 3 2 2 1 3 5 2 2 3 2 4 1 4 2 4 3 3 2 3 3 6 2 5 3 4 2 4 1 2 1 0 1 3 2 1 5 2 4 1 3 3 2 2 5 3 1 3 2 2 5 1 5 3 3 1 2 3 1 2 2 5 3 2 4 2 1 3 2 1 2 0 3 3 1 4 4 3 1 2 0 3 2 4 4 3 6 2 1 1 2 2 1 0 5 1 2 4 2 1 3 2 4 2 1 2 1 4 2 3 3 2 3 1 2 3 4 4 3 2 2 1 1 3 3 3 1 3 3 2 4 2 3 5 4 3 3 3 2 2 5 3 2 3 1 3 2 3 2 3 6 4 1 2 2\n",
      "C: 1 3 2 5 1 3 4 3 2 4 3 3 2 4 1 4 1 2 3 3 3 3 3 4 4 7 3 3 2 1 4 2 1 1 4 5 4 2 4 1 2 2 2 1 1 2 3 4 5 4 2 1 2 2 4 3 2 1 3 4 4 2 3 3 0 1 4 4 3 4 2 4 2 2 3 1 2 1 2 3 3 2 2 3 4 2 3 3 2 1 5 1 1 4 3 2 2 2 2 2 2 0 2 1 4 3 2 2 2 1 3 2 0 3 2 4 3 3 4 2 5 6 3 2 4 4 1 0 2 1 1 2 3 4 1 1 5 1 1 1 1 2 2 1 4 6 2 3 1 3 2 2 0 4 0 7 5 5 3 2 1 1 3 2 1 4 2 4 1 2 0 0 3 1 2 2 5 3 4 2 5 2 3 2 3 2 2 1 4 3 0 1 1 4 5 1 2 3 4 1 1 3 3 6 2 3 4 1 2 3 2 4 3 2 4 3 3 1 3 1 3 2 4 2 3 3 5 1 2 2 1 0 5 3 3 2 3 4 2 4 2 6 6 5 5 3 3 1 2 2 3 1 2 1 1 0 3 2 2 5 5 2 3 0 0 2 2 3 2 3 1 2 3 2 3 1 2 1 3 1 2 3 4 1 1 3 4 1 0 1 4 4 0 2 2 2 6 2 3 4 2 3 1 5 1 2 3 3 1 1 3 2 2 3 3 3 4 3 1 2 2 3 0 4 0 3 4 2 0 2 2 3 1 3 2 0 3 0 2 4 1 4 2 3 3 3 2 2 1 3 2 3 6 3 6 3 3 4 3 2 1 1 4 2 4 2 4 1 6 5 1 1 2 2 1 1 2 1 5 2 3 3 3 2 2 2 3 3 5 2 2 6 2 3 2 1 3 3 1 3 2 2 1 4 1 3 5 4 2 2 2 2 1 2 4 2 3 4 0 1 3 1 5 2 2 1 3 2 5 2 2 2 5 1 4 0 1 2 1 0 6 2 4 2 2 4 1 3 1 2 3 4 4 3 2 1 2 3 1 2 3 0 4 4 2 4 3 2 4 2 5 3 2 3 2 3 5 4 2 2 3 3 3 2 2 2 2 2 3 3 3 6 4 3 0 2 2 4 2 2 3 2 2 5 3 0 5 2 3 2 4 5 4 0 2 3 2 2 2 2 4 2 3 3 2 4 4 5 2 2 2 4 3 4 3 2 3 3 4 2 3 6 1 0 2 1 2 2 3 3 3 0 2 2 1 5 2 3 3 4 2 1 2 2 4 3 1 1 2 4 1 4 1 2 1 3 0 0 2 2 1 6 1 2 3 0 1 3 2 2 3 2 1 2 2 1 2 0 1 1 2 3 2 4 4 2 1 3 2 4 4 2 2 1 2 2 3 3 2 4 2 4 2 2 4 1 2 2 2 3 2 3 2 1 2 1 2 2 2 1 0 2 0 1 1 2 2 4 1 2 4 1 1 3 1 1 1 1 5 3 2 3 1 3 3 5 2 4 1 4 5 1 2 3 4 1 0 2 0 2 2 3 0 3 3 4 2 3 5 2 1 1 0 0 2 3 2 1 1 1 1 2 5 3 0 3 2 2 1 3 3 2 3 2 1 4 1 1 1 3 2 3 4 4 0 4 2 2 2 4 4 4 3 1 1 1 5 4 2 0 2 1 3 0 3 3 1 0 1 2 3 4 3 2 0 2 3 3 5 3 5 2 5 1 5 2 2 4 3 0 4 0 3 1 2 2 1 4 4 8 3 1 4 1 2 3 2 4 1 1 1 1 4 2 4 0 4 1 1 4 2 4 3 4 2 3 5 1 4 0 0 2 5 1 3 4 2 2 2 2 3 1 2 1 3 4 2 2 5 3 3 1 1 3 0 3 4 3 3 3 2 3 1 2 5 1 3 5 2 2 2 2 4 1 4 2 3 2 4 2 2 1 3 2 4 1 3 3 4 5 3 3 3 3 3 3 1 5 3 3 4 2 1 3 3 0 0 3 2 2 1 2 0 4 3 3 3 1 2 0 5 2 2\n",
      "G: 2 4 3 0 4 0 0 0 3 1 4 1 4 1 3 3 3 2 0 1 2 1 3 2 3 1 2 2 3 3 1 1 4 0 4 3 1 4 3 3 1 3 5 3 2 3 3 4 2 2 1 2 3 5 2 1 1 2 1 2 3 0 1 0 2 2 0 1 2 3 5 2 2 3 3 2 4 3 2 2 2 5 5 3 0 2 3 2 2 2 2 2 1 1 4 5 5 0 1 3 2 4 4 2 1 3 3 3 4 2 2 3 5 2 5 0 2 0 2 5 1 3 4 4 1 4 1 1 1 4 2 3 1 0 2 1 2 4 1 3 1 2 3 4 3 2 4 4 3 2 4 3 3 2 3 1 1 0 0 4 3 3 1 6 3 3 3 1 3 3 3 2 4 2 3 3 1 3 3 3 2 0 1 4 1 2 2 4 3 3 7 4 1 2 1 4 1 2 2 5 1 3 3 1 2 3 4 1 3 3 5 1 1 3 3 2 1 5 0 1 0 2 3 1 1 3 0 0 5 2 3 3 0 2 3 3 2 0 3 2 3 3 2 3 2 4 3 2 3 3 7 3 0 1 2 2 3 1 1 3 3 1 0 4 4 2 3 5 2 1 3 1 3 0 1 4 2 2 1 4 3 3 4 5 3 3 2 4 3 4 2 2 4 1 2 5 3 3 3 3 3 0 2 2 3 3 2 3 1 2 1 3 3 2 3 4 2 3 3 2 3 3 1 3 3 2 1 3 5 4 3 2 4 2 3 5 1 1 4 1 3 1 3 2 4 2 2 5 4 1 2 3 1 2 0 2 2 3 2 3 2 6 1 2 2 2 4 1 2 2 3 4 5 3 3 2 2 4 2 1 2 0 1 2 2 6 3 5 1 2 0 2 3 3 2 3 2 3 3 6 3 3 6 3 2 3 2 1 2 2 2 2 1 5 2 6 4 4 4 5 2 5 1 5 4 4 2 0 2 4 2 1 3 1 2 3 4 1 4 2 1 2 2 2 2 2 3 3 5 1 4 1 2 1 5 5 4 4 5 2 1 2 1 4 2 2 0 3 2 6 2 4 2 1 3 3 1 2 3 2 2 1 3 2 6 2 0 2 3 3 3 3 4 2 6 4 3 2 1 2 1 1 3 3 1 4 2 4 1 2 3 4 5 4 3 1 2 1 1 2 3 4 3 4 3 1 2 3 2 1 2 2 3 3 2 6 1 1 2 2 3 2 2 5 2 2 3 4 2 2 4 6 2 6 3 0 1 3 2 2 1 2 4 2 1 4 5 2 2 1 3 3 2 3 2 1 3 5 4 3 6 1 2 2 2 4 3 1 5 4 3 1 3 3 3 0 4 2 2 6 4 4 2 4 1 5 3 3 1 1 1 3 3 1 2 3 3 3 3 2 5 3 1 3 1 3 3 3 4 2 4 1 2 4 4 2 5 1 4 3 3 3 6 5 2 4 4 2 4 2 1 2 1 2 2 5 3 4 1 0 5 0 4 1 3 4 3 3 6 2 3 4 4 2 2 2 2 4 5 3 1 3 6 1 3 2 1 2 1 3 4 2 3 4 4 1 1 1 5 2 5 2 3 3 1 5 1 2 1 5 3 3 3 2 3 0 2 4 2 3 4 2 1 2 3 3 1 0 3 2 2 1 1 2 5 3 0 2 4 2 3 5 2 3 1 2 0 2 4 0 2 2 4 3 5 2 2 1 3 2 2 4 0 3 1 1 3 0 2 0 1 4 4 0 3 3 5 1 3 0 3 3 0 4 1 3 2 5 2 2 5 4 0 2 1 3 1 4 1 3 2 1 2 1 3 1 1 1 3 3 2 1 1 1 1 1 2 5 3 2 2 4 2 2 1 1 2 1 2 1 2 2 1 3 2 5 2 3 2 2 3 3 2 3 0 2 2 2 2 3 2 3 3 5 4 2 4 3 2 4 3 4 3 3 1 2 4 5 1 2 1 1 2 2 6 2 2 0 2 2 1 1 2 3 3 2 3 2 2 3 5 4 3 1 3 1 1 1 2 5 2 2 5\n",
      "T: 4 1 0 2 1 4 2 3 1 3 1 2 3 2 3 1 3 2 4 5 2 4 0 0 2 2 4 2 3 5 3 4 4 4 2 1 4 1 1 4 3 3 1 2 4 1 3 1 2 3 4 3 3 0 2 1 3 4 6 1 2 4 2 5 6 2 3 4 1 2 0 3 4 1 0 3 2 1 3 3 3 2 3 3 2 2 3 3 4 4 1 4 4 3 1 2 1 2 2 4 3 5 2 3 2 0 2 3 0 3 4 4 1 5 2 6 2 4 3 2 2 1 0 1 4 1 4 6 4 2 3 3 2 2 4 5 1 2 5 4 2 3 2 2 3 0 3 0 3 4 1 2 5 0 1 2 2 3 5 2 2 3 3 0 4 3 2 4 2 4 3 4 2 5 4 3 3 2 1 4 1 4 1 2 3 2 5 1 3 3 3 3 4 0 1 2 2 2 1 2 5 2 1 1 0 3 2 2 1 3 1 3 4 3 0 3 4 3 2 3 2 2 1 3 5 1 3 5 0 3 3 6 1 3 3 2 2 3 4 1 1 1 2 2 1 1 2 4 1 4 0 3 4 5 3 3 3 7 3 1 1 4 3 3 5 4 2 2 0 3 2 3 2 5 2 3 2 5 2 2 1 1 1 1 3 2 3 2 1 3 3 2 5 2 3 0 1 2 1 3 2 5 4 1 4 1 1 2 5 5 4 1 3 3 4 1 1 1 1 6 3 3 6 1 4 3 2 3 4 2 2 2 3 3 2 3 4 6 0 4 2 3 3 4 0 5 1 2 3 2 3 3 3 2 3 2 1 2 0 3 5 2 3 1 2 2 1 3 1 3 5 4 2 2 4 3 5 1 2 1 4 4 2 1 3 0 3 2 3 3 4 0 3 3 1 4 2 2 4 0 3 2 2 1 5 1 1 2 4 3 3 3 3 3 3 0 3 0 3 2 2 3 1 1 1 4 1 6 3 1 4 5 0 7 1 3 4 3 3 2 1 2 1 3 2 3 2 4 2 2 2 2 2 4 2 2 1 1 1 1 3 3 4 0 3 2 4 5 2 2 1 2 4 1 3 3 4 3 2 3 2 3 2 3 0 4 3 5 2 2 2 1 1 3 3 1 1 2 2 1 4 3 3 1 4 4 3 1 3 1 2 0 1 4 4 3 2 1 2 2 0 2 1 0 3 2 1 1 5 3 2 3 2 2 3 0 4 4 0 5 2 1 5 3 2 3 2 4 0 3 1 0 3 1 3 0 4 0 4 2 3 3 3 1 3 1 3 2 2 2 3 2 5 2 3 3 5 3 3 2 1 2 3 1 3 3 2 4 2 2 2 3 2 3 3 5 1 6 5 2 3 1 1 1 1 2 2 1 3 3 4 3 3 2 1 4 1 2 4 2 2 1 5 2 5 3 3 3 3 4 2 3 3 5 2 6 0 4 1 2 7 2 2 1 4 2 1 3 4 3 2 4 4 1 4 4 2 3 1 5 3 2 3 2 3 1 3 1 2 2 0 1 3 3 3 3 4 3 2 2 6 1 1 3 3 3 2 2 1 2 1 3 4 5 3 4 4 3 3 4 2 5 1 1 7 1 3 4 6 1 2 1 3 2 2 4 3 2 5 2 2 2 2 1 4 0 5 2 3 1 3 2 5 4 2 4 2 2 0 3 1 3 2 3 2 3 5 3 3 5 3 2 2 2 0 4 3 3 0 1 2 0 3 2 1 4 3 3 2 4 3 1 0 5 3 1 3 3 2 2 3 3 4 4 2 2 2 0 4 4 2 3 1 3 4 4 3 3 3 2 1 2 2 4 3 3 3 6 1 2 5 5 0 6 5 2 4 2 3 6 2 2 5 3 2 2 5 5 3 3 3 3 4 1 2 0 3 3 3 3 4 4 2 4 3 3 3 2 3 3 2 3 2 2 1 2 1 2 1 2 2 4 2 2 1 3 0 0 3 2 5 3 2 2 0 2 4 3 1 3 2 2 3 1 1 5 5 3 1 2 2 1 6 2 2 3 4 5 0 1 2 4 1\n"
     ]
    }
   ],
   "source": [
    "s10(FASTA_file)"
   ]
  }
 ],
 "metadata": {
  "kernelspec": {
   "display_name": "Python 3",
   "language": "python",
   "name": "python3"
  },
  "language_info": {
   "codemirror_mode": {
    "name": "ipython",
    "version": 3
   },
   "file_extension": ".py",
   "mimetype": "text/x-python",
   "name": "python",
   "nbconvert_exporter": "python",
   "pygments_lexer": "ipython3",
   "version": "3.7.3"
  }
 },
 "nbformat": 4,
 "nbformat_minor": 2
}
